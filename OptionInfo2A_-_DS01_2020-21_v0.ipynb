{
 "cells": [
  {
   "cell_type": "markdown",
   "metadata": {},
   "source": [
    "## MP Option informatique - DS01 - 03/10/2020"
   ]
  },
  {
   "cell_type": "code",
   "execution_count": 1,
   "metadata": {},
   "outputs": [
    {
     "data": {
      "text/plain": [
       "val affichelistenonl : int list -> unit = <fun>\n"
      ]
     },
     "execution_count": 1,
     "metadata": {},
     "output_type": "execute_result"
    },
    {
     "data": {
      "text/plain": [
       "val affichelistenl : int list -> unit = <fun>\n"
      ]
     },
     "execution_count": 1,
     "metadata": {},
     "output_type": "execute_result"
    },
    {
     "ename": "error",
     "evalue": "compile_error",
     "output_type": "error",
     "traceback": [
      "\u001b[32mFile \"[1]\", line 17, characters 0-12:\n\u001b[31mError: Unbound value afficheliste\nHint: Did you mean affichelistenl?\n\u001b[36m  16: \u001b[30m\n\u001b[36m  17: \u001b[30m\u001b[4mafficheliste\u001b[0m\u001b[30m [];;\n\u001b[36m  18: \u001b[30mafficheliste [1; 2; 3];;\u001b[0m\n"
     ]
    }
   ],
   "source": [
    "(* fonction d'affichage d'une liste d'entiers *)\n",
    "let affichelistenonl lst =\n",
    "    print_char '[';\n",
    "    let rec aux lst = match lst with\n",
    "                          | []  -> ()\n",
    "                          | [x] -> print_int x\n",
    "                          | h::t -> print_int h; print_string \"; \";\n",
    "                                    aux t\n",
    "    in\n",
    "    aux lst;\n",
    "    print_char ']';;\n",
    "\n",
    "let affichelistenl lst = \n",
    "    affichelistenonl lst;\n",
    "    print_newline ();;\n",
    "\n",
    "afficheliste [];;\n",
    "afficheliste [1; 2; 3];;"
   ]
  },
  {
   "cell_type": "markdown",
   "metadata": {},
   "source": [
    "## Exercice 1"
   ]
  },
  {
   "cell_type": "code",
   "execution_count": 2,
   "metadata": {},
   "outputs": [
    {
     "data": {
      "text/plain": [
       "val a : int = 6\n"
      ]
     },
     "execution_count": 2,
     "metadata": {},
     "output_type": "execute_result"
    }
   ],
   "source": [
    "let a =\n",
    "    let a = 3 and b = 3 in\n",
    "        let a = a + b and b = a - b in\n",
    "            a - b;;"
   ]
  },
  {
   "cell_type": "markdown",
   "metadata": {},
   "source": [
    "Une instruction let non suivie de in définit une (ou des) variable(s) dans l'espace de nom du programme (\"top level\").  \n",
    "Les variables ainsi définies sont des variables globales.  \n",
    "Chaque instruction let ... in ... définit des variables locales dont la portée est limitée à l'évaluation de l'expression suivant le in.  \n",
    "Ci-dessous, on a explicité par des parenthèses les expressions dont l'évaluation fixe la valeur de la variable globale a."
   ]
  },
  {
   "cell_type": "code",
   "execution_count": 3,
   "metadata": {},
   "outputs": [
    {
     "data": {
      "text/plain": [
       "val a : int = 6\n"
      ]
     },
     "execution_count": 3,
     "metadata": {},
     "output_type": "execute_result"
    }
   ],
   "source": [
    "let a =\n",
    "    (let a = 3 and b = 3 in\n",
    "        (let a = a + b and b = a - b in\n",
    "            (\n",
    "            a - b\n",
    "            )\n",
    "        )\n",
    "    )\n",
    ";;"
   ]
  },
  {
   "cell_type": "markdown",
   "metadata": {},
   "source": [
    "Ci-dessous on a distingué par des numéros les différentes variables locales dont les noms sont, dans l'énoncé, identiques, ce qui n'est pas ambigü pour l'interpréteur car il s'agit de noms locaux dont la portée ne dépasse pas l'évaluation de l'expression parenthésée ci-dessus, suivant le \"in\"."
   ]
  },
  {
   "cell_type": "code",
   "execution_count": 4,
   "metadata": {},
   "outputs": [
    {
     "data": {
      "text/plain": [
       "val a : int = 6\n"
      ]
     },
     "execution_count": 4,
     "metadata": {},
     "output_type": "execute_result"
    }
   ],
   "source": [
    "let a =\n",
    "    let a1 = 3 and b1 = 3 in\n",
    "        let a2 = a1 + b1 and b2 = a1 - b1 in\n",
    "            a2 - b2;;"
   ]
  },
  {
   "cell_type": "markdown",
   "metadata": {},
   "source": [
    "La valeur calculée et affectée à la variable globale a est ainsi :  \n",
    "$$(2+3)-(2-3)=2+3-2+3=6.$$"
   ]
  },
  {
   "cell_type": "markdown",
   "metadata": {},
   "source": [
    "La seconde instruction calcule une valeur entière par l'évaluation d'une expression \"a - b * b\" faisant intervenir la valeur de la variable globale a (de valeur 6) et d'une variable locale b (nouvellement définie), de valeur 2.  \n",
    "La valeur obtenue est ainsi $6-2\\times 2=2$."
   ]
  },
  {
   "cell_type": "code",
   "execution_count": 5,
   "metadata": {},
   "outputs": [
    {
     "data": {
      "text/plain": [
       "- : int = 2\n"
      ]
     },
     "execution_count": 5,
     "metadata": {},
     "output_type": "execute_result"
    }
   ],
   "source": [
    "let b = 2 in a - b * b;;"
   ]
  },
  {
   "cell_type": "markdown",
   "metadata": {},
   "source": [
    "## Exercice 2"
   ]
  },
  {
   "cell_type": "code",
   "execution_count": 6,
   "metadata": {},
   "outputs": [
    {
     "data": {
      "text/plain": [
       "val f : int -> int -> int = <fun>\n"
      ]
     },
     "execution_count": 6,
     "metadata": {},
     "output_type": "execute_result"
    }
   ],
   "source": [
    "let rec f p q =\n",
    "    match p with\n",
    "        | 0 -> q\n",
    "        | _ -> f (p - 1) q + 1;;"
   ]
  },
  {
   "cell_type": "markdown",
   "metadata": {},
   "source": [
    "Au vu des résultats suivants :"
   ]
  },
  {
   "cell_type": "code",
   "execution_count": 7,
   "metadata": {},
   "outputs": [
    {
     "data": {
      "text/plain": [
       "- : int array array =\n",
       "[|[|0; 1; 2; 3; 4; 5|]; [|1; 2; 3; 4; 5; 6|]; [|2; 3; 4; 5; 6; 7|];\n",
       "  [|3; 4; 5; 6; 7; 8|]; [|4; 5; 6; 7; 8; 9|]; [|5; 6; 7; 8; 9; 10|]|]\n"
      ]
     },
     "execution_count": 7,
     "metadata": {},
     "output_type": "execute_result"
    }
   ],
   "source": [
    "let n = 5 in\n",
    "let mat_f = Array.make_matrix (n+1) (n+1) 0 in\n",
    "for p = 0 to n do\n",
    "    for q = 0 to n do\n",
    "        mat_f.(p).(q) <- f p q\n",
    "    done\n",
    "done;\n",
    "mat_f;;"
   ]
  },
  {
   "cell_type": "markdown",
   "metadata": {},
   "source": [
    "on peut conjecturer que :\n",
    "$$\\forall \\ (p,q)\\in\\mathbb N \\times \\mathbb N, \\ f(p, q)=p+q$$"
   ]
  },
  {
   "cell_type": "markdown",
   "metadata": {},
   "source": [
    "#### Démonstration"
   ]
  },
  {
   "cell_type": "markdown",
   "metadata": {},
   "source": [
    "Posons, pour tout $q\\geqslant 0$, $\\left( u_p^{q} \\right)_{p\\geqslant 0}=\\left( f(p, q) \\right)_{p\\geqslant 0}$.  \n",
    "Pour tout $q\\in\\mathbb N$, puisque $u^q_0=q$ et $\\forall p \\geqslant 0, \\ u^q_{p+1}=f(p+1,q)=f(p,q)+1=u^q_p+1$, la suite $u^{q}$, de terme général $u_p^{q}$ est une suite arithmétique de premier terme $u_0^{q}= q$ et de raison $1$, donc\n",
    "$$\\forall \\ p\\geqslant 0, \\ u^q_p = q + p.$$  \n",
    "Ce qui établit, pour tout couple $(p,q)\\in\\mathbb N \\times \\mathbb N$, que $f(p, q)=p+q$."
   ]
  },
  {
   "cell_type": "code",
   "execution_count": 8,
   "metadata": {},
   "outputs": [
    {
     "data": {
      "text/plain": [
       "val g : int -> int -> int = <fun>\n"
      ]
     },
     "execution_count": 8,
     "metadata": {},
     "output_type": "execute_result"
    }
   ],
   "source": [
    "let rec g p q =\n",
    "    match p with\n",
    "        | 0 -> q\n",
    "        | _ -> f (p - 1) (q + 1);;"
   ]
  },
  {
   "cell_type": "markdown",
   "metadata": {},
   "source": [
    "Au vu des résultats suivants :"
   ]
  },
  {
   "cell_type": "code",
   "execution_count": 9,
   "metadata": {},
   "outputs": [
    {
     "data": {
      "text/plain": [
       "- : int array array =\n",
       "[|[|0; 1; 2; 3; 4; 5|]; [|1; 2; 3; 4; 5; 6|]; [|2; 3; 4; 5; 6; 7|];\n",
       "  [|3; 4; 5; 6; 7; 8|]; [|4; 5; 6; 7; 8; 9|]; [|5; 6; 7; 8; 9; 10|]|]\n"
      ]
     },
     "execution_count": 9,
     "metadata": {},
     "output_type": "execute_result"
    }
   ],
   "source": [
    "let n = 5 in\n",
    "let mat_g = Array.make_matrix (n+1) (n+1) 0 in\n",
    "for p = 0 to n do\n",
    "    for q = 0 to n do\n",
    "        mat_g.(p).(q) <- g p q\n",
    "    done\n",
    "done;\n",
    "mat_g;;"
   ]
  },
  {
   "cell_type": "markdown",
   "metadata": {},
   "source": [
    "on peut conjecturer de même que :\n",
    "$$\\forall \\ (p,q)\\in\\mathbb N \\times \\mathbb N, \\ g(p, q)=p+q$$"
   ]
  },
  {
   "cell_type": "markdown",
   "metadata": {},
   "source": [
    "#### Démonstration"
   ]
  },
  {
   "cell_type": "markdown",
   "metadata": {},
   "source": [
    "Posons, pour tout $p\\geqslant 0$, $\\left( u_q^{p} \\right)_{q\\geqslant 0}=\\left( g(p, q) \\right)_{q\\geqslant 0}$.  \n",
    "On se propose de montrer par récurrence sur $p$, que, pour tout $p\\geqslant 0$ :  \n",
    "$$\\left( v_q^{p} \\right)_{q\\geqslant 0}=\\left( p+q \\right)_{q\\geqslant 0}$$\n",
    "à savoir que la suite $v^p=\\left( v_q^{p} \\right)_{q\\geqslant 0}$ est une suite arithmétique de premier terme $v_0^p=p$ et de raison $1$.  "
   ]
  },
  {
   "cell_type": "markdown",
   "metadata": {},
   "source": [
    "* **initialisation**  \n",
    "Pour $p=0$, comme pour tout $q\\in\\mathbb N, \\ g(0,q) = q$, on a aussi, par définition : $\\forall q, \\ v^0_q$.  \n",
    "* **hérédité**  \n",
    "Si pour un certain $p\\geqslant 0$, on a, pour tout $q\\geqslant 0$,\n",
    "$v_q^p = p + q$, alors, pour tout $q\\geqslant 0$ :  \n",
    "$$\n",
    "v_q^{p+1}=g(p+1,q)=g(p, q+1)=v_{q+1}^p=p+(q+1)=(p+1)+q.\n",
    "$$\n",
    "Ce qui établit que la propriété est vraie au rang $p+1$."
   ]
  },
  {
   "cell_type": "markdown",
   "metadata": {},
   "source": [
    "On a ainsi établi le résultat, par récurrence sur $p$, et donc que :\n",
    "pour tout cuople $(p,q)\\in \\mathbb N\\times \\mathbb N, \\ g(p,q)=p+q$."
   ]
  },
  {
   "cell_type": "markdown",
   "metadata": {},
   "source": [
    "## Exercice 3"
   ]
  },
  {
   "cell_type": "code",
   "execution_count": null,
   "metadata": {},
   "outputs": [],
   "source": []
  },
  {
   "cell_type": "markdown",
   "metadata": {},
   "source": [
    "$$\n",
    "p \\times q =\n",
    "\\left\\{\n",
    "    \\begin{array}{ll}\n",
    "        \\left(\\frac{p}{2}\\right) \\times \\left(2q\\right)& \\mbox{si } p \\mbox{ est pair} \\\\\n",
    "        \\left(\\frac{p-1}{2}\\right) \\times \\left(2q\\right) + q & \\mbox{si } p \\mbox{ est impair}\n",
    "    \\end{array}\n",
    "\\right.\n",
    "$$"
   ]
  },
  {
   "cell_type": "code",
   "execution_count": 10,
   "metadata": {},
   "outputs": [
    {
     "data": {
      "text/plain": [
       "val mult : int -> int -> int = <fun>\n"
      ]
     },
     "execution_count": 10,
     "metadata": {},
     "output_type": "execute_result"
    }
   ],
   "source": [
    "let rec mult p q = match p with\n",
    "    | 0 -> 0\n",
    "    | _ -> match p mod 2 with\n",
    "               | 0 -> mult (p / 2) (2 * q)\n",
    "               | _ -> mult ((p - 1)/ 2) (2 * q) + q;;"
   ]
  },
  {
   "cell_type": "code",
   "execution_count": 11,
   "metadata": {},
   "outputs": [
    {
     "data": {
      "text/plain": [
       "- : int * int = (84, 84)\n"
      ]
     },
     "execution_count": 11,
     "metadata": {},
     "output_type": "execute_result"
    }
   ],
   "source": [
    "mult 12 7, 12 * 7;;"
   ]
  },
  {
   "cell_type": "markdown",
   "metadata": {},
   "source": [
    "$$\n",
    "q ^ p =\n",
    "\\left\\{\n",
    "    \\begin{array}{ll}\n",
    "        \\left(q ^ 2 \\right)^{\\frac{p}{2}}& \\mbox{si } p \\mbox{ est pair} \\\\\n",
    "        \\left(q ^ 2 \\right)^{\\frac{p-1}{2}} \\times q & \\mbox{si } p \\mbox{ est impair}\n",
    "    \\end{array}\n",
    "\\right.\n",
    "$$"
   ]
  },
  {
   "cell_type": "code",
   "execution_count": 12,
   "metadata": {},
   "outputs": [
    {
     "data": {
      "text/plain": [
       "val pow : int -> int -> int = <fun>\n"
      ]
     },
     "execution_count": 12,
     "metadata": {},
     "output_type": "execute_result"
    }
   ],
   "source": [
    "let rec pow q p = match p with\n",
    "    | 0 -> 1\n",
    "    | _ -> match p mod 2 with\n",
    "               | 0 -> pow (q * q) (p / 2)\n",
    "               | _ -> pow (q * q) (p / 2) * q;;"
   ]
  },
  {
   "cell_type": "code",
   "execution_count": 13,
   "metadata": {},
   "outputs": [
    {
     "data": {
      "text/plain": [
       "- : int * int = (35831808, 35831808)\n"
      ]
     },
     "execution_count": 13,
     "metadata": {},
     "output_type": "execute_result"
    }
   ],
   "source": [
    "pow 12 7, 12 * 12 * 12 * 12 * 12 * 12 * 12;;"
   ]
  },
  {
   "cell_type": "markdown",
   "metadata": {},
   "source": [
    "## Exercice 4"
   ]
  },
  {
   "cell_type": "code",
   "execution_count": 14,
   "metadata": {},
   "outputs": [
    {
     "data": {
      "text/plain": [
       "val intersection : 'a list -> 'a list -> 'a list = <fun>\n"
      ]
     },
     "execution_count": 14,
     "metadata": {},
     "output_type": "execute_result"
    },
    {
     "data": {
      "text/plain": [
       "- : int list = []\n"
      ]
     },
     "execution_count": 14,
     "metadata": {},
     "output_type": "execute_result"
    },
    {
     "data": {
      "text/plain": [
       "- : int list = [2; 4]\n"
      ]
     },
     "execution_count": 14,
     "metadata": {},
     "output_type": "execute_result"
    }
   ],
   "source": [
    "let intersection ens ens' = \n",
    "    let rec appartient elt ens =\n",
    "        match ens with\n",
    "            | []   -> false\n",
    "            | h::t -> if elt = h then true else appartient elt t\n",
    "    in\n",
    "    let rec aux ens1 ens2 =\n",
    "        match ens1 with\n",
    "            | []   -> []\n",
    "            | h::t -> if appartient h ens2 then h::(aux t ens2) else (aux t ens2)\n",
    "    in\n",
    "    aux ens ens';;\n",
    "\n",
    "(* tests *)\n",
    "intersection [2; 4; 6] [];;\n",
    "intersection [2; 4; 6] [1; 5; 2; 3; 4];;"
   ]
  },
  {
   "cell_type": "code",
   "execution_count": 15,
   "metadata": {},
   "outputs": [
    {
     "data": {
      "text/plain": [
       "val union : 'a list -> 'a list -> 'a list = <fun>\n"
      ]
     },
     "execution_count": 15,
     "metadata": {},
     "output_type": "execute_result"
    },
    {
     "data": {
      "text/plain": [
       "- : int list = [2; 4; 6]\n"
      ]
     },
     "execution_count": 15,
     "metadata": {},
     "output_type": "execute_result"
    },
    {
     "data": {
      "text/plain": [
       "- : int list = [6; 1; 5; 2; 3; 4]\n"
      ]
     },
     "execution_count": 15,
     "metadata": {},
     "output_type": "execute_result"
    }
   ],
   "source": [
    "let union ens ens' = \n",
    "    let rec appartient elt ens =\n",
    "        match ens with\n",
    "            | []   -> false\n",
    "            | h::t -> if elt = h then true else appartient elt t\n",
    "    in\n",
    "    let rec aux ens1 ens2 =\n",
    "        match ens1 with\n",
    "            | []   -> ens2\n",
    "            | h::t -> if not (appartient h ens2) then h::(aux t ens2) else (aux t ens2)\n",
    "    in\n",
    "    aux ens ens';;\n",
    "\n",
    "(* tests *)\n",
    "union [2; 4; 6] [];;\n",
    "union [2; 4; 6] [1; 5; 2; 3; 4];;"
   ]
  },
  {
   "cell_type": "code",
   "execution_count": 16,
   "metadata": {},
   "outputs": [
    {
     "data": {
      "text/plain": [
       "val diffsym : 'a list -> 'a list -> 'a list = <fun>\n"
      ]
     },
     "execution_count": 16,
     "metadata": {},
     "output_type": "execute_result"
    },
    {
     "data": {
      "text/plain": [
       "- : int list = [6; 4; 2]\n"
      ]
     },
     "execution_count": 16,
     "metadata": {},
     "output_type": "execute_result"
    },
    {
     "data": {
      "text/plain": [
       "- : int list = [3; 5; 1; 6]\n"
      ]
     },
     "execution_count": 16,
     "metadata": {},
     "output_type": "execute_result"
    }
   ],
   "source": [
    "let diffsym ens ens' = \n",
    "    let union_ens = union ens ens'\n",
    "    and inter_ens = intersection ens ens'\n",
    "    in\n",
    "    let rec appartient elt ens =\n",
    "        match ens with\n",
    "            | []   -> false\n",
    "            | h::t -> if elt = h then true else appartient elt t\n",
    "    in\n",
    "    let rec soustraction ens1 ens2 acc =\n",
    "        match ens2 with\n",
    "            | []   -> acc\n",
    "            | h::t -> if appartient h ens1 then soustraction ens1 t acc else soustraction ens1 t (h::acc)\n",
    "    in\n",
    "    (* inter_ens, union_ens, *) soustraction inter_ens union_ens [];;\n",
    "\n",
    "(* tests *)\n",
    "diffsym [2; 4; 6] [];;\n",
    "diffsym [2; 4; 6] [1; 5; 2; 3; 4];;"
   ]
  },
  {
   "cell_type": "markdown",
   "metadata": {},
   "source": [
    "Les fonctions auxiliaires utilisées dans l'implémentation de la fonction diffsym sont redéfinies ci-dessous si vous souhaitez les tester individuellement."
   ]
  },
  {
   "cell_type": "code",
   "execution_count": 17,
   "metadata": {},
   "outputs": [
    {
     "data": {
      "text/plain": [
       "val appartient : 'a -> 'a list -> bool = <fun>\n"
      ]
     },
     "execution_count": 17,
     "metadata": {},
     "output_type": "execute_result"
    },
    {
     "data": {
      "text/plain": [
       "val soustraction : 'a list -> 'a list -> 'a list -> 'a list = <fun>\n"
      ]
     },
     "execution_count": 17,
     "metadata": {},
     "output_type": "execute_result"
    },
    {
     "data": {
      "text/plain": [
       "- : int list = [6; 2]\n"
      ]
     },
     "execution_count": 17,
     "metadata": {},
     "output_type": "execute_result"
    }
   ],
   "source": [
    "let rec appartient elt ens =\n",
    "        match ens with\n",
    "            | []   -> false\n",
    "            | h::t -> if elt = h then true else appartient elt t;;\n",
    "\n",
    "let rec soustraction ens1 ens2 acc =\n",
    "        match ens2 with\n",
    "            | []   -> acc\n",
    "            | h::t -> if appartient h ens1 then soustraction ens1 t acc else soustraction ens1 t (h::acc);;\n",
    "\n",
    "(* tests *)\n",
    "soustraction [4] [2; 4; 6] [];;"
   ]
  },
  {
   "cell_type": "markdown",
   "metadata": {},
   "source": [
    "## Exercice 5"
   ]
  },
  {
   "cell_type": "code",
   "execution_count": 18,
   "metadata": {},
   "outputs": [
    {
     "data": {
      "text/plain": [
       "val swap : 'a ref -> 'a ref -> unit = <fun>\n"
      ]
     },
     "execution_count": 18,
     "metadata": {},
     "output_type": "execute_result"
    },
    {
     "data": {
      "text/plain": [
       "val a : int ref = {contents = 0}\n",
       "val b : int ref = {contents = 1}\n"
      ]
     },
     "execution_count": 18,
     "metadata": {},
     "output_type": "execute_result"
    },
    {
     "data": {
      "text/plain": [
       "- : unit = ()\n"
      ]
     },
     "execution_count": 18,
     "metadata": {},
     "output_type": "execute_result"
    },
    {
     "data": {
      "text/plain": [
       "- : int ref * int ref = ({contents = 1}, {contents = 0})\n"
      ]
     },
     "execution_count": 18,
     "metadata": {},
     "output_type": "execute_result"
    }
   ],
   "source": [
    "let swap a b =\n",
    "    let tmp = !a in\n",
    "    a := !b;\n",
    "    b := tmp;;\n",
    "\n",
    "(* tests *)\n",
    "let a, b = ref 0, ref 1;;\n",
    "swap a b;;\n",
    "a, b;;"
   ]
  },
  {
   "cell_type": "code",
   "execution_count": 19,
   "metadata": {},
   "outputs": [
    {
     "data": {
      "text/plain": [
       "val f : int ref -> int ref -> unit = <fun>\n"
      ]
     },
     "execution_count": 19,
     "metadata": {},
     "output_type": "execute_result"
    }
   ],
   "source": [
    "let f x y = \n",
    "    x := !x + !y;\n",
    "    y := !x - !y;\n",
    "    x := !x - !y;;"
   ]
  },
  {
   "cell_type": "markdown",
   "metadata": {},
   "source": [
    "On a :  \n",
    "* $y' = (x+y)-y = x$  \n",
    "* $x' = (x+y)-x=y$"
   ]
  },
  {
   "cell_type": "markdown",
   "metadata": {},
   "source": [
    "## Exercice 6"
   ]
  },
  {
   "cell_type": "markdown",
   "metadata": {},
   "source": [
    "L'implémentation de la première fonction récursive repose sur la relation de récurrence suivante :  \n",
    "$$\\forall n \\geqslant 0, \\ x^n = x \\times x^{n-1}.$$"
   ]
  },
  {
   "cell_type": "markdown",
   "metadata": {},
   "source": [
    "Et plus précisément, si on note $\\left( u_n  \\right)_{n\\geqslant 0}\n",
    "                                 =\\left( x^n  \\right)_{n\\geqslant 0}$, sur les relations  :  \n",
    "$$\n",
    "\\left\\{\n",
    "    \\begin{array}{ll}\n",
    "        u_0 = x^0 =1 \\\\\n",
    "        \\forall n \\geqslant 1, \\ u_n = x^n = x \\times u_{n-1}.\n",
    "    \\end{array}\n",
    "\\right.\n",
    "$$"
   ]
  },
  {
   "cell_type": "markdown",
   "metadata": {},
   "source": [
    "L'implémentation effective de la fonction en découle immédiatement."
   ]
  },
  {
   "cell_type": "code",
   "execution_count": 20,
   "metadata": {},
   "outputs": [
    {
     "data": {
      "text/plain": [
       "val powerrec : int -> int -> int = <fun>\n"
      ]
     },
     "execution_count": 20,
     "metadata": {},
     "output_type": "execute_result"
    },
    {
     "data": {
      "text/plain": [
       "- : int * int = (1, 1024)\n"
      ]
     },
     "execution_count": 20,
     "metadata": {},
     "output_type": "execute_result"
    }
   ],
   "source": [
    "let rec powerrec x n = \n",
    "    match n with\n",
    "        | 0 -> 1\n",
    "        | _ -> x * powerrec x (n - 1);;\n",
    "        \n",
    "(* test *)\n",
    "powerrec 2 0, powerrec 2 10;;"
   ]
  },
  {
   "cell_type": "markdown",
   "metadata": {},
   "source": [
    "La première implémentation impérative repose sur l'écriture suivante de $x^n$ :\n",
    "$$\\forall n \\geqslant 0, \\ x^n = \\prod_{k=0}^n x.$$\n",
    "On implémente donc une boucle bornée calculant un produit."
   ]
  },
  {
   "cell_type": "code",
   "execution_count": 21,
   "metadata": {},
   "outputs": [
    {
     "data": {
      "text/plain": [
       "val powerimp : int -> int -> int = <fun>\n"
      ]
     },
     "execution_count": 21,
     "metadata": {},
     "output_type": "execute_result"
    },
    {
     "data": {
      "text/plain": [
       "- : int * int = (1, 1024)\n"
      ]
     },
     "execution_count": 21,
     "metadata": {},
     "output_type": "execute_result"
    }
   ],
   "source": [
    "let rec powerimp x n = \n",
    "    let res = ref 1\n",
    "    in\n",
    "    for k = 1 to n do\n",
    "        res := x * !res\n",
    "    done;\n",
    "    !res;;\n",
    "    \n",
    "(* test *)\n",
    "powerimp 2 0, powerimp 2 10;;"
   ]
  },
  {
   "cell_type": "markdown",
   "metadata": {},
   "source": [
    "**Dans les deux implémentations**, fonctionnelle et impérative, on effectue $n-1$ multiplications."
   ]
  },
  {
   "cell_type": "markdown",
   "metadata": {},
   "source": [
    "En posant $f(x,n)=x^n$, l'implémentation de la fonction seconde fonction récursive repose sur les relations :  \n",
    "$$\n",
    "\\begin{array}{ll}\n",
    "        \\bullet \\ f(x,0) = x^0 =1 \\mbox{ et } f(x,1) = x^1 =x\\\\\n",
    "        \\bullet \\ \\forall n \\geqslant 2, \\\\\n",
    "        \\quad\n",
    "        \\left\\{\n",
    "            \\begin{array}{ll}\n",
    "                f(x,n)= f(x\\times x, p) & \\mbox{ si $n$ est pair, de la forme $n=2p$ ; }\\\\\n",
    "                f(x,n)= x\\times f(x\\times x, p) & \\mbox{ si $n$ est impair, de la forme $n=2p+1$ ; }.\n",
    "            \\end{array}\n",
    "        \\right.\n",
    "\\end{array}\n",
    "$$"
   ]
  },
  {
   "cell_type": "code",
   "execution_count": 22,
   "metadata": {},
   "outputs": [
    {
     "data": {
      "text/plain": [
       "val power2rec : int -> int -> int = <fun>\n"
      ]
     },
     "execution_count": 22,
     "metadata": {},
     "output_type": "execute_result"
    },
    {
     "data": {
      "text/plain": [
       "- : int * int = (1, 1024)\n"
      ]
     },
     "execution_count": 22,
     "metadata": {},
     "output_type": "execute_result"
    }
   ],
   "source": [
    "let rec power2rec x n = \n",
    "    match n with\n",
    "        | 0 -> 1\n",
    "        | _ -> match n mod 2 with\n",
    "                   | 0 -> power2rec (x * x) (n / 2)\n",
    "                   | _ -> x * power2rec (x * x) (n / 2);;\n",
    "        \n",
    "(* test *)\n",
    "power2rec 2 0, power2rec 2 10;;"
   ]
  },
  {
   "cell_type": "markdown",
   "metadata": {},
   "source": [
    "L'implémentation de la seconde fonction de style impératif, nécessite le calcul des puissances de $x$ de la forme $x^{2^k}$, telles que $x^{2^k}\\leqslant x^n$, ainsi que sur la décomposition en base $2$ de l'exposant $n$.  \n",
    "Ainsi, par exemple, pour n'effectuer que des multiplications de deux entiers, le calcul de $x^{10}$ en utilisant les relations spécifiées, se décompose ainsi :\n",
    "$$\n",
    "\\begin{array}{ll}\n",
    "        x^{10} &=& \\left( x\\times x\\right)^5&=&\\left( x^{2}\\right)^5&=&\\left( x^{2^1}\\right)^5\\\\\n",
    "        &=& x^{2^1}\\times \\left( x^{2^1}\\times x^{2^1}\\right)^2&=&x^{2^1}\\times \\left( \\left(x^{2^1}\\right)^2\\right)^2\n",
    "        &=&x^{2^1}\\times \\left( x^{2^1 \\times 2}\\right)^2&=&x^2\\times \\left( x^{2^ 2}\\right)^2\\\\\n",
    "        &=& x^{2^1}\\times \\left( x^{2^ 2} \\times x^{2^ 2}\\right)&=& x^{2^1}\\times \\left( x^{2^ 3}\\right)\n",
    "\\end{array}\n",
    "$$\n",
    "On reconnaît ici que\n",
    "$$x^{10}=x^{2^1}\\times x^{2^ 3}= x^{0\\times 2^0 + 1\\times 2^1 + 0\\times 2^2+ 1\\times 2^3} = x^{\\sum_{h=0}^3 c_h 2^h} ,$$\n",
    "où $\\left(c_3c_2c_1c_0\\right)_2=\\left(1010\\right)_2$ est l'écriture en base $2$ de l'entier $10$.  \n",
    "  \n",
    "Autre exemple, pour le calcul de $x^{7}$ :  \n",
    "$$\n",
    "\\begin{array}{ll}\n",
    "        x^{7} &=& x\\times \\left( x\\times x\\right)^3&=&x^{2^0}\\times \\left( x^{2^1}\\right)^3\\\\\n",
    "        &=& x^{2^0}\\times x^{2^1}\\times \\left( x^{2^1}\\times x^{2^1}\\right)^2&=&\n",
    "        x^{2^0}\\times x^{2^1}\\times \\left( x^{2\\times 2^1}\\right)\n",
    "        &=&\n",
    "        x^{2^0}\\times x^{2^1}\\times x^{2^2}\n",
    "\\end{array}\n",
    "$$\n",
    "  \n",
    "On reconnaît ici que\n",
    "$$x^{7}=x^{2^0}\\times x^{2^1}\\times x^{2^2}\n",
    "= x^{1\\times 2^0 + 1\\times 2^1 + 1\\times 2^2+ 1\\times 2^3} = x^{\\sum_{h=0}^2 c_h 2^h} ,$$\n",
    "où $\\left(c_2c_1c_0\\right)_2=\\left(111\\right)_2$ est l'écriture en base $2$ de l'entier $7$.  "
   ]
  },
  {
   "cell_type": "markdown",
   "metadata": {},
   "source": [
    "De façon générale, ce calcul repose sur le calcul simultané des termes de quatre suites finies,\n",
    "$\\left( q_k  \\right)_{0\\leqslant k\\leqslant m-1}$, $\\left( r_k  \\right)_{0\\leqslant k\\leqslant m-1}$,\n",
    "$\\left( a_k  \\right)_{0\\leqslant k\\leqslant m-1}$ et $\\left( b_k  \\right)_{0\\leqslant k\\leqslant m-1}$, où $m$ est le nombre de chiffre de l'écriture en base $2$ de $n$, qui est aussi le plus petit entier tel que $n\\le 2^m$."
   ]
  },
  {
   "cell_type": "markdown",
   "metadata": {},
   "source": [
    "Les suites $\\left( q_k  \\right)_{0\\leqslant k\\leqslant m-1}$, $\\left( r_k  \\right)_{0\\leqslant k\\leqslant m-1}$ sont, respectivement,\n",
    "les suites des quotients et des restes dans les divisions successives de l'exposant $n$ par $2$, définies par :\n",
    "$$\n",
    "\\left\\{\n",
    "    \\begin{array}{ll}\n",
    "        q_0 = n \\\\\n",
    "        \\forall k \\in [\\![ 0, m - 2]\\!], \\  q_{k} = 2 q_{k+1} + r_{k} \\mbox{ où } 0\\leqslant r_{k} \\le 2\n",
    "        \\left(\\mbox{$q_{k+1}$ et $r_k$ sont les quotient et reste dans la division euclidienne de $q_k$ par $2$}\\right)\\\\\n",
    "        r_{m-1} = 1.\n",
    "    \\end{array}\n",
    "\\right.\n",
    "$$"
   ]
  },
  {
   "cell_type": "markdown",
   "metadata": {},
   "source": [
    "Les suites $\\left( a_k  \\right)_{0\\leqslant k\\leqslant m-1}$ et $\\left( b_k  \\right)_{0\\leqslant k\\leqslant m-1}$ ont pour terme général :\n",
    "$$\\forall k \\in [\\![ 0, m - 1]\\!], \\  a_k = \\prod_{h=0}^k x^{r_k 2^k} \\mbox{ et } b_k = x^{2^k}$$\n",
    "et leurs valeurs se calculent par récurrence suivant les relations suivantes :\n",
    "$$\n",
    "\\left\\{\n",
    "    \\begin{array}{ll}\n",
    "        b_0 = x^1 = x \\mbox{ et } a_0 = \\left( b_0  \\right)^{r_0} \\quad \\left(\\mbox{$a_0 = x$ si $n$ est impair, $a_0=1$ sinon.}\\right)\\\\\n",
    "        \\begin{array}{ll}\n",
    "                \\forall k \\in [\\![ 1, m - 1]\\!],&&\\\\\n",
    "                &b_{k}= b_{k-1}  \\times b_{k-1} ;\\\\\n",
    "                &a_k = b_{k}^{r_k}  \\times  a_{k-1} &\n",
    "                \\mbox{ $i.e.$ $a_k = a_{k-1}$  si $q_k$ est pair,\n",
    "                $a_k = x^{2^k}$ sinon}.\n",
    "            \\end{array}\n",
    "    \\end{array}\n",
    "\\right.\n",
    "$$"
   ]
  },
  {
   "cell_type": "code",
   "execution_count": 23,
   "metadata": {},
   "outputs": [
    {
     "data": {
      "text/plain": [
       "val power2imp : int -> int -> int = <fun>\n"
      ]
     },
     "execution_count": 23,
     "metadata": {},
     "output_type": "execute_result"
    },
    {
     "data": {
      "text/plain": [
       "- : int * int = (1, 1024)\n"
      ]
     },
     "execution_count": 23,
     "metadata": {},
     "output_type": "execute_result"
    }
   ],
   "source": [
    "let rec power2imp x n = \n",
    "    let q, a, b = ref n, ref 1, ref x\n",
    "    in\n",
    "    while !q > 0 do\n",
    "        let r = !q mod 2 in\n",
    "        if r = 1 then\n",
    "            a := !b * !a;\n",
    "        q := !q / 2;\n",
    "        b := !b * ! b\n",
    "    done;\n",
    "    !a;;\n",
    "    \n",
    "(* test *)\n",
    "power2imp 2 0, power2imp 2 10;;"
   ]
  },
  {
   "cell_type": "markdown",
   "metadata": {},
   "source": [
    "**Dans les deux implémentations**, fonctionnelle et impérative, on effectue $m-1$ multiplications pour le calcul de $x^{2^{m-1}}$ et une multiplication pour chaque chiffre non nul dans l'écriture binaire de l'entier $n$.  "
   ]
  },
  {
   "cell_type": "markdown",
   "metadata": {},
   "source": [
    "## Exercice 7"
   ]
  },
  {
   "cell_type": "code",
   "execution_count": 24,
   "metadata": {},
   "outputs": [
    {
     "data": {
      "text/plain": [
       "val f : int -> int -> int = <fun>\n"
      ]
     },
     "execution_count": 24,
     "metadata": {},
     "output_type": "execute_result"
    }
   ],
   "source": [
    "let f a b = \n",
    "    let u = ref a and v = ref b in\n",
    "        while !v <> 0 do\n",
    "            let w = !v in\n",
    "                v := !u mod !v ;\n",
    "                u := w\n",
    "            done;\n",
    "        !u;;"
   ]
  },
  {
   "cell_type": "code",
   "execution_count": 25,
   "metadata": {},
   "outputs": [
    {
     "data": {
      "text/plain": [
       "- : int = 450\n"
      ]
     },
     "execution_count": 25,
     "metadata": {},
     "output_type": "execute_result"
    }
   ],
   "source": [
    "(* tests *)\n",
    "f (4*27*25) (2*9*125);;"
   ]
  },
  {
   "cell_type": "markdown",
   "metadata": {},
   "source": [
    "Si on note $r(s, t)$ le reste dans la division euclidienne d'un entier $s$ par un entier $t$, et $u_0=a$ et $v_0=b$, alors, à la fin de la $k^{\\rm ième}$ itération de la boucle <code>while</code> $(k\\geqslant0$), on a :\n",
    "$$\n",
    "u_k = v_{k-1} \\mbox{ et } v_k = r\\left(u_{k-1}, v_{k-1}\\right)\n",
    "$$\n",
    "et la dernière itération est l'itération d'indice $k$ telle qu'à son issue $v_k=0$."
   ]
  },
  {
   "cell_type": "markdown",
   "metadata": {},
   "source": [
    "On reconnaît là une implémentation de l'algorithme d'Euclide pour le calcul du PGCD de deux entiers $a$ et $b$."
   ]
  },
  {
   "cell_type": "markdown",
   "metadata": {},
   "source": [
    "Le type de la fonction <code>f</code> est <code>int -> int -> int</code>, puisqu'elle prend en entrée deux entiers et renvoie un entier."
   ]
  },
  {
   "cell_type": "markdown",
   "metadata": {},
   "source": [
    "La réécriture de $f$ dans un style fonctionnel, revient à remplacer les itérations de la boucle <code>while</code> par des appels récursifs."
   ]
  },
  {
   "cell_type": "code",
   "execution_count": 26,
   "metadata": {},
   "outputs": [
    {
     "data": {
      "text/plain": [
       "val frec : int -> int -> int = <fun>\n"
      ]
     },
     "execution_count": 26,
     "metadata": {},
     "output_type": "execute_result"
    }
   ],
   "source": [
    "let rec frec a b =\n",
    "    match b with\n",
    "        | 0 -> a\n",
    "        | _ -> frec b (a mod b);;"
   ]
  },
  {
   "cell_type": "code",
   "execution_count": 27,
   "metadata": {},
   "outputs": [
    {
     "data": {
      "text/plain": [
       "- : int = 450\n"
      ]
     },
     "execution_count": 27,
     "metadata": {},
     "output_type": "execute_result"
    }
   ],
   "source": [
    "(* tests *)\n",
    "frec (4*27*25) (2*9*125);;"
   ]
  },
  {
   "cell_type": "markdown",
   "metadata": {},
   "source": [
    "https://caml.inria.fr/pub/docs/manual-ocaml/libref/Random.html"
   ]
  },
  {
   "cell_type": "code",
   "execution_count": 28,
   "metadata": {},
   "outputs": [
    {
     "data": {
      "text/plain": [
       "- : int * int * int * int = (685, 344, 1, 1)\n"
      ]
     },
     "execution_count": 28,
     "metadata": {},
     "output_type": "execute_result"
    }
   ],
   "source": [
    "open Random;;\n",
    "let n = 1000 in\n",
    "let a, b = Random.int n, Random.int n\n",
    "in\n",
    "a, b, f a b, frec a b;;"
   ]
  },
  {
   "cell_type": "markdown",
   "metadata": {},
   "source": [
    "## Exercice 8"
   ]
  },
  {
   "cell_type": "code",
   "execution_count": 29,
   "metadata": {},
   "outputs": [],
   "source": [
    "(* version impérative : on compare les lettres en k-ième et (n-1-k)-ième position d'un mot de longueur n,\n",
    "pour k variant de 0 à n-1.\n",
    "Le mot est un palindrome si les comparaisons sont des égalités pour tout k compris entre 0 et n / 2*)"
   ]
  },
  {
   "cell_type": "code",
   "execution_count": 30,
   "metadata": {},
   "outputs": [
    {
     "data": {
      "text/plain": [
       "val palindrome_imp : string -> bool = <fun>\n"
      ]
     },
     "execution_count": 30,
     "metadata": {},
     "output_type": "execute_result"
    },
    {
     "data": {
      "text/plain": [
       "- : bool = false\n"
      ]
     },
     "execution_count": 30,
     "metadata": {},
     "output_type": "execute_result"
    },
    {
     "data": {
      "text/plain": [
       "- : bool = true\n"
      ]
     },
     "execution_count": 30,
     "metadata": {},
     "output_type": "execute_result"
    },
    {
     "data": {
      "text/plain": [
       "- : bool = true\n"
      ]
     },
     "execution_count": 30,
     "metadata": {},
     "output_type": "execute_result"
    },
    {
     "data": {
      "text/plain": [
       "- : bool = true\n"
      ]
     },
     "execution_count": 30,
     "metadata": {},
     "output_type": "execute_result"
    },
    {
     "data": {
      "text/plain": [
       "- : bool = false\n"
      ]
     },
     "execution_count": 30,
     "metadata": {},
     "output_type": "execute_result"
    },
    {
     "data": {
      "text/plain": [
       "- : bool = true\n"
      ]
     },
     "execution_count": 30,
     "metadata": {},
     "output_type": "execute_result"
    }
   ],
   "source": [
    "let palindrome_imp s = \n",
    "    let n, k = String.length s, ref 0 in\n",
    "    while !k < n / 2 && s.[!k] == s.[n - 1 - !k] do\n",
    "        incr k\n",
    "    done;\n",
    "    !k == n / 2;;\n",
    "\n",
    "(* tests *)\n",
    "palindrome_imp \"abca\";;\n",
    "palindrome_imp \"abba\";;\n",
    "palindrome_imp \"kayak\";;\n",
    "palindrome_imp \"eluparcettecrapule\";;\n",
    "palindrome_imp \"tulastropecraseceportsalut\";;\n",
    "palindrome_imp \"tulastropecrasecesarceportsalut\";;"
   ]
  },
  {
   "cell_type": "markdown",
   "metadata": {},
   "source": [
    "Ci-dessous une implémentation récursive sur le modèle de l'implémentation impérative, où les itérations de la boucle <code>while</code> sont remplacées par des appels récursifs."
   ]
  },
  {
   "cell_type": "code",
   "execution_count": 31,
   "metadata": {},
   "outputs": [
    {
     "data": {
      "text/plain": [
       "val palindrome_rec0 : string -> bool = <fun>\n"
      ]
     },
     "execution_count": 31,
     "metadata": {},
     "output_type": "execute_result"
    },
    {
     "data": {
      "text/plain": [
       "- : bool = false\n"
      ]
     },
     "execution_count": 31,
     "metadata": {},
     "output_type": "execute_result"
    },
    {
     "data": {
      "text/plain": [
       "- : bool = true\n"
      ]
     },
     "execution_count": 31,
     "metadata": {},
     "output_type": "execute_result"
    },
    {
     "data": {
      "text/plain": [
       "- : bool = true\n"
      ]
     },
     "execution_count": 31,
     "metadata": {},
     "output_type": "execute_result"
    },
    {
     "data": {
      "text/plain": [
       "- : bool = true\n"
      ]
     },
     "execution_count": 31,
     "metadata": {},
     "output_type": "execute_result"
    },
    {
     "data": {
      "text/plain": [
       "- : bool = false\n"
      ]
     },
     "execution_count": 31,
     "metadata": {},
     "output_type": "execute_result"
    },
    {
     "data": {
      "text/plain": [
       "- : bool = true\n"
      ]
     },
     "execution_count": 31,
     "metadata": {},
     "output_type": "execute_result"
    }
   ],
   "source": [
    "let palindrome_rec0 s = \n",
    "    let n = String.length s in\n",
    "    let rec aux k =\n",
    "        match k with\n",
    "            | _ when k = n / 2 -> true\n",
    "            | _                -> if s.[k] <> s.[n - 1 - k] then false else aux (k + 1)\n",
    "    in\n",
    "    aux 0;;\n",
    "\n",
    "(* tests *)\n",
    "palindrome_rec0 \"abca\";;\n",
    "palindrome_rec0 \"abba\";;\n",
    "palindrome_rec0 \"kayak\";;\n",
    "palindrome_rec0 \"eluparcettecrapule\";;\n",
    "palindrome_rec0 \"tulastropecraseceportsalut\";;\n",
    "palindrome_rec0 \"tulastropecrasecesarceportsalut\";;"
   ]
  },
  {
   "cell_type": "markdown",
   "metadata": {},
   "source": [
    "Ci-dessous l'implémentation de style fonctionnelle attendue, qui utilise la fonction <code>sub</code> du module <code>String</code>."
   ]
  },
  {
   "cell_type": "code",
   "execution_count": 32,
   "metadata": {},
   "outputs": [
    {
     "data": {
      "text/plain": [
       "- : string = \"bcdefg\"\n"
      ]
     },
     "execution_count": 32,
     "metadata": {},
     "output_type": "execute_result"
    }
   ],
   "source": [
    "let s = \"abcdefgh\" in\n",
    "let n = String.length s\n",
    "in\n",
    "String.sub s 1 (n - 2) (* enlève le premier et le dernier caractère de s *)"
   ]
  },
  {
   "cell_type": "code",
   "execution_count": 33,
   "metadata": {},
   "outputs": [
    {
     "data": {
      "text/plain": [
       "val palindrome_rec : string -> bool = <fun>\n"
      ]
     },
     "execution_count": 33,
     "metadata": {},
     "output_type": "execute_result"
    },
    {
     "data": {
      "text/plain": [
       "- : bool = false\n"
      ]
     },
     "execution_count": 33,
     "metadata": {},
     "output_type": "execute_result"
    },
    {
     "data": {
      "text/plain": [
       "- : bool = true\n"
      ]
     },
     "execution_count": 33,
     "metadata": {},
     "output_type": "execute_result"
    },
    {
     "data": {
      "text/plain": [
       "- : bool = true\n"
      ]
     },
     "execution_count": 33,
     "metadata": {},
     "output_type": "execute_result"
    },
    {
     "data": {
      "text/plain": [
       "- : bool = true\n"
      ]
     },
     "execution_count": 33,
     "metadata": {},
     "output_type": "execute_result"
    },
    {
     "data": {
      "text/plain": [
       "- : bool = false\n"
      ]
     },
     "execution_count": 33,
     "metadata": {},
     "output_type": "execute_result"
    },
    {
     "data": {
      "text/plain": [
       "- : bool = true\n"
      ]
     },
     "execution_count": 33,
     "metadata": {},
     "output_type": "execute_result"
    }
   ],
   "source": [
    "let rec palindrome_rec s = \n",
    "    let n = String.length s in\n",
    "    match n with\n",
    "        | 0 | 1 -> true\n",
    "        | _     -> if s.[0] <> s.[n - 1] then\n",
    "                       false\n",
    "                   else\n",
    "                       palindrome_rec (String.sub s 1 (n - 2));;\n",
    "                       \n",
    "(* tests *)\n",
    "palindrome_rec \"abca\";;\n",
    "palindrome_rec \"abba\";;\n",
    "palindrome_rec \"kayak\";;\n",
    "palindrome_rec \"eluparcettecrapule\";;\n",
    "palindrome_rec \"tulastropecraseceportsalut\";;\n",
    "palindrome_rec \"tulastropecrasecesarceportsalut\";;"
   ]
  },
  {
   "cell_type": "markdown",
   "metadata": {},
   "source": [
    "## Exercice 9"
   ]
  },
  {
   "cell_type": "code",
   "execution_count": 34,
   "metadata": {},
   "outputs": [
    {
     "data": {
      "text/plain": [
       "val eval1 : int array -> int -> int = <fun>\n"
      ]
     },
     "execution_count": 34,
     "metadata": {},
     "output_type": "execute_result"
    },
    {
     "data": {
      "text/plain": [
       "val fpoly : int -> int = <fun>\n"
      ]
     },
     "execution_count": 34,
     "metadata": {},
     "output_type": "execute_result"
    },
    {
     "data": {
      "text/plain": [
       "val poly : int array = [|2; -5; 1; 3|]\n"
      ]
     },
     "execution_count": 34,
     "metadata": {},
     "output_type": "execute_result"
    },
    {
     "data": {
      "text/plain": [
       "val b : int = -2\n"
      ]
     },
     "execution_count": 34,
     "metadata": {},
     "output_type": "execute_result"
    },
    {
     "data": {
      "text/plain": [
       "- : int = -8\n"
      ]
     },
     "execution_count": 34,
     "metadata": {},
     "output_type": "execute_result"
    },
    {
     "data": {
      "text/plain": [
       "- : int = -8\n"
      ]
     },
     "execution_count": 34,
     "metadata": {},
     "output_type": "execute_result"
    }
   ],
   "source": [
    "let eval1 poly b =\n",
    "    let degre = Array.length poly - 1 in\n",
    "    let s = ref 0 in\n",
    "    for k = 0 to degre do\n",
    "        let prod = ref poly.(k) in\n",
    "            for i = 1 to k do\n",
    "                prod := !prod * b\n",
    "            done;\n",
    "            s := !s + !prod\n",
    "    done;\n",
    "    !s;;\n",
    "\n",
    "(* test *)\n",
    "let fpoly x = 2 - 5 * x + x * x + 3 * x * x * x;;\n",
    "let poly = [|2; -5; 1; 3|];;\n",
    "let b = - 2;;\n",
    "fpoly b;;\n",
    "eval1 poly b;;"
   ]
  },
  {
   "cell_type": "markdown",
   "metadata": {},
   "source": [
    "Dans le pire cas, on effectue un nombre d'additions égal au degré du polynôme et pour chaque degré, si le coefficient est non nul,\n",
    "un nombre de multiplications égal au degré, soit au total, $\\sum_{k=0}^d k=\\frac{d(d+1)}{2}$ multiplications."
   ]
  },
  {
   "cell_type": "markdown",
   "metadata": {},
   "source": [
    "Le calcul de $b^k$ à l'aide de $n-1$ multiplications, pour chaque degré $k$, peut être évité, en introduisant une variable auxiliaire <code>puiss</code>, que l'on multiplie par $b$ à chaque itération :"
   ]
  },
  {
   "cell_type": "code",
   "execution_count": 35,
   "metadata": {},
   "outputs": [
    {
     "data": {
      "text/plain": [
       "val eval1' : int array -> int -> int = <fun>\n"
      ]
     },
     "execution_count": 35,
     "metadata": {},
     "output_type": "execute_result"
    },
    {
     "data": {
      "text/plain": [
       "val fpoly : int -> int = <fun>\n"
      ]
     },
     "execution_count": 35,
     "metadata": {},
     "output_type": "execute_result"
    },
    {
     "data": {
      "text/plain": [
       "val poly : int array = [|2; -5; 1; 3|]\n"
      ]
     },
     "execution_count": 35,
     "metadata": {},
     "output_type": "execute_result"
    },
    {
     "data": {
      "text/plain": [
       "val b : int = -2\n"
      ]
     },
     "execution_count": 35,
     "metadata": {},
     "output_type": "execute_result"
    },
    {
     "data": {
      "text/plain": [
       "- : int = -8\n"
      ]
     },
     "execution_count": 35,
     "metadata": {},
     "output_type": "execute_result"
    },
    {
     "data": {
      "text/plain": [
       "- : int = -8\n"
      ]
     },
     "execution_count": 35,
     "metadata": {},
     "output_type": "execute_result"
    }
   ],
   "source": [
    "let eval1' poly b =\n",
    "    let degre = Array.length poly - 1 in\n",
    "    let s, puiss = ref 0, ref 1 in\n",
    "    for k = 0 to degre do\n",
    "        s := !s + poly.(k) * !puiss;\n",
    "        puiss := b * !puiss\n",
    "    done;\n",
    "    !s;;\n",
    "\n",
    "(* test *)\n",
    "let fpoly x = 2 - 5 * x + x * x + 3 * x * x * x;;\n",
    "let poly = [|2; -5; 1; 3|];;\n",
    "let b = - 2;;\n",
    "fpoly b;;\n",
    "eval1' poly b;;"
   ]
  },
  {
   "cell_type": "markdown",
   "metadata": {},
   "source": [
    "On effectue un nombre d'additions égal au degré du polynôme et un nombre de multiplication égal au double du degré\n",
    "du polynôme (une addition et deux multiplications par itération)."
   ]
  },
  {
   "cell_type": "markdown",
   "metadata": {},
   "source": [
    "L'écriture $\\displaystyle P(b)=a_0+b\\left(\\sum_{k=0}^{n-2}a_{k+1}b^k\\right)$ incite à l'implémentation récursive suivante dans laquelle l'appel récursif d'indice $k$ ($k \\in [\\![ 0, n - 1 ]\\!]$), \n",
    "<code>aux k</code>\n",
    "renvoie l'évaluation en $b$ du polynôme de coefficients $[|a_k, \\dots, a_{n-1}|]$.  "
   ]
  },
  {
   "cell_type": "code",
   "execution_count": 36,
   "metadata": {},
   "outputs": [
    {
     "data": {
      "text/plain": [
       "val eval2 : int array -> int -> int = <fun>\n"
      ]
     },
     "execution_count": 36,
     "metadata": {},
     "output_type": "execute_result"
    },
    {
     "data": {
      "text/plain": [
       "val fpoly : int -> int = <fun>\n"
      ]
     },
     "execution_count": 36,
     "metadata": {},
     "output_type": "execute_result"
    },
    {
     "data": {
      "text/plain": [
       "val poly : int array = [|2; -5; 1; 3|]\n"
      ]
     },
     "execution_count": 36,
     "metadata": {},
     "output_type": "execute_result"
    },
    {
     "data": {
      "text/plain": [
       "val b : int = 7\n"
      ]
     },
     "execution_count": 36,
     "metadata": {},
     "output_type": "execute_result"
    },
    {
     "data": {
      "text/plain": [
       "- : int = 1045\n"
      ]
     },
     "execution_count": 36,
     "metadata": {},
     "output_type": "execute_result"
    },
    {
     "data": {
      "text/plain": [
       "- : int = 1045\n"
      ]
     },
     "execution_count": 36,
     "metadata": {},
     "output_type": "execute_result"
    }
   ],
   "source": [
    "let eval2 poly b =\n",
    "    let deg = Array.length poly - 1 in\n",
    "    let rec aux k =\n",
    "        match k with\n",
    "            | _ when k = deg -> poly.(k)\n",
    "            | _              -> poly.(k) + b * aux (k + 1)\n",
    "    in\n",
    "    aux 0;;\n",
    "\n",
    "(* test *)\n",
    "let fpoly x = 2 - 5 * x + x * x + 3 * x * x * x;;\n",
    "let poly = [|2; -5; 1; 3|];;\n",
    "let b = 7;;\n",
    "fpoly b;;\n",
    "eval2 poly b;;"
   ]
  },
  {
   "cell_type": "markdown",
   "metadata": {},
   "source": [
    "Par l'algorithme de Hörner, on effectue $n-1$ additions et $n-1$ multiplications pour évaluer le polynôme $P$ en $b$."
   ]
  },
  {
   "cell_type": "markdown",
   "metadata": {},
   "source": [
    "* **implémentation impérative**  "
   ]
  },
  {
   "cell_type": "markdown",
   "metadata": {},
   "source": [
    "L'égalité\n",
    "$(1) \\ \\displaystyle {\\rm P}(b)=a_0+b\\left(\\sum_{k=0 }^{n-2}a_{k+1}b^{k   }\\right)$,\n",
    "s'écrit par le changement d'indice $k'=k+1$,\n",
    "$(1') \\ \\displaystyle {\\rm P}(b)=\\sum_{k=0 }^{n-1}a_{k}b^{k   }=a_0+b\\left(\\sum_{k'=1}^{n-1}a_{k' }b^{k'-1}\\right)$.  \n",
    "Si on note $\\displaystyle u_i = \\sum_{k=n-1-i}^{n-1}a_k b^{k-i}$, la relation $(1')$ donne,\n",
    "pour tout $i\\in [\\![1, n-1]\\!]$ :\n",
    "$$\n",
    "u_i = a_{n-1-i} + b \\times u_{i-1}. \n",
    "$$\n",
    "L'implémentation impérative de l'algorithme consiste alors en le calcul des valeurs\n",
    "$\\left(u_i\\right)_{0\\leqslant i\\leqslant n-1}$."
   ]
  },
  {
   "cell_type": "code",
   "execution_count": 37,
   "metadata": {},
   "outputs": [
    {
     "data": {
      "text/plain": [
       "val eval3 : int array -> int -> int = <fun>\n"
      ]
     },
     "execution_count": 37,
     "metadata": {},
     "output_type": "execute_result"
    },
    {
     "data": {
      "text/plain": [
       "val fpoly : int -> int = <fun>\n"
      ]
     },
     "execution_count": 37,
     "metadata": {},
     "output_type": "execute_result"
    },
    {
     "data": {
      "text/plain": [
       "val poly : int array = [|2; -5; 1; 3|]\n"
      ]
     },
     "execution_count": 37,
     "metadata": {},
     "output_type": "execute_result"
    },
    {
     "data": {
      "text/plain": [
       "val b : int = 7\n"
      ]
     },
     "execution_count": 37,
     "metadata": {},
     "output_type": "execute_result"
    },
    {
     "data": {
      "text/plain": [
       "- : int = 1045\n"
      ]
     },
     "execution_count": 37,
     "metadata": {},
     "output_type": "execute_result"
    },
    {
     "data": {
      "text/plain": [
       "- : int = 1045\n"
      ]
     },
     "execution_count": 37,
     "metadata": {},
     "output_type": "execute_result"
    }
   ],
   "source": [
    "let eval3 poly b = \n",
    "    let deg = Array.length poly - 1 in\n",
    "    let u = ref poly.(deg)\n",
    "    in\n",
    "    for i = 1 to deg do\n",
    "        u := poly.(deg - i) + b * !u\n",
    "    done;\n",
    "    !u;;\n",
    "\n",
    "(* test *)\n",
    "let fpoly x = 2 - 5 * x + x * x + 3 * x * x * x;;\n",
    "let poly = [|2; -5; 1; 3|];;\n",
    "let b = 7;;\n",
    "fpoly b;;\n",
    "eval3 poly b;;"
   ]
  },
  {
   "cell_type": "markdown",
   "metadata": {},
   "source": [
    "* Calcul de ${\\rm P}\\left( {\\rm X} + b \\right)$."
   ]
  },
  {
   "cell_type": "markdown",
   "metadata": {},
   "source": [
    "On peut s'inspirer de la méthode de Hörner pour écrire :  \n",
    "$$(2) \\\n",
    "{\\rm P} \\left( {\\rm X} + b \\right) = \n",
    " a_0 + \\left( {\\rm X} + b \\right) \\left( \\sum_{k=0}^{n-2}a_{k+1}\\left( {\\rm X} + b \\right)^k\\right).\n",
    "$$"
   ]
  },
  {
   "cell_type": "markdown",
   "metadata": {},
   "source": [
    "En notant $\\displaystyle {\\rm P}_{i} ({\\rm X}) = \\sum_{k=0}^{n-1-i}a_{k+i} {\\rm X} ^k$,\n",
    "la relation $(2)$ s'écrit, pour $i=0$, \n",
    "${\\rm P} \\left({\\rm X} + b\\right) =\n",
    "{\\rm P}_{0} \\left({\\rm X} + b\\right) = a_0 + \\left({\\rm X} + b\\right) \\times {\\rm P}_{1} \\left({\\rm X} + b\\right)$\n",
    "et se généralise en \n",
    "$$\n",
    "(2') \\ {\\rm P}_{i} \\left({\\rm X} + b\\right) = a_i + \\left({\\rm X} + b\\right) \\times {\\rm P}_{i+1} \\left({\\rm X} + b\\right)\n",
    "$$"
   ]
  },
  {
   "cell_type": "markdown",
   "metadata": {},
   "source": [
    "En posant, pour tout $i\\in [\\![ 0, n-1 ]\\!]$, ${\\rm Q}_i = {\\rm P}_{n-1-i}$,  \n",
    "il vient ${\\rm Q}_0 \\left({\\rm X} + b\\right) = {\\rm P}_{n-1} \\left({\\rm X} + b\\right) = a_{n-1}$,  \n",
    "puis pour tout $i\\in [\\![ 1, n-1 ]\\!]$, la relation $(2')$ s'écrit :\n",
    "$$\n",
    "{\\rm Q}_i \\left({\\rm X}\\right) = \n",
    "{\\rm P}_{n-1-i} \\left({\\rm X} + b\\right) = \n",
    "a_{n-1-i} + \\left({\\rm X} + b\\right) {\\rm P}_{(n-1-i) + 1} \\left({\\rm X} + b\\right) =\n",
    "a_{n-1-i} + \\left({\\rm X} + b\\right) {\\rm P}_{n-1-(i-1)} \\left({\\rm X} + b\\right)\n",
    "$$\n",
    "c'est-à-dire\n",
    "$$\n",
    "{\\rm Q}_i \\left({\\rm X}\\right) = \n",
    "a_{n-1-i} + \\left({\\rm X} + b\\right) {\\rm Q}_{i-1} \\left({\\rm X} \\right)\n",
    ".\n",
    "$$\n",
    "On a alors ${\\rm Q}_{n-1} \\left({\\rm X}\\right) = {\\rm P}_{0} \\left({\\rm X} + b \\right)\n",
    "= {\\rm P} \\left({\\rm X} + b \\right)$."
   ]
  },
  {
   "cell_type": "markdown",
   "metadata": {},
   "source": [
    "Une implémentation impérative consiste alors à calculer à chaque itération d'indice $i$, $1\\leqslant i\\leqslant n-1$, le \n",
    "tableau des coefficients, <code>qpoly'</code>, du polynôme ${\\rm Q}_i$ de degré $i$,\n",
    "à partir du \n",
    "tableau des coefficients, <code>qpoly</code>, du polynôme ${\\rm Q}_{i-1}$ de degré $i-1$."
   ]
  },
  {
   "cell_type": "code",
   "execution_count": 38,
   "metadata": {},
   "outputs": [
    {
     "data": {
      "text/plain": [
       "val translation : int array -> int -> int array = <fun>\n"
      ]
     },
     "execution_count": 38,
     "metadata": {},
     "output_type": "execute_result"
    },
    {
     "data": {
      "text/plain": [
       "val poly : int array = [|0; 0; 0; 1|]\n"
      ]
     },
     "execution_count": 38,
     "metadata": {},
     "output_type": "execute_result"
    },
    {
     "data": {
      "text/plain": [
       "val b : int = 1\n"
      ]
     },
     "execution_count": 38,
     "metadata": {},
     "output_type": "execute_result"
    },
    {
     "data": {
      "text/plain": [
       "- : int array = [|1; 3; 3; 1|]\n"
      ]
     },
     "execution_count": 38,
     "metadata": {},
     "output_type": "execute_result"
    }
   ],
   "source": [
    "let translation poly b =\n",
    "    let n = Array.length poly in\n",
    "    let qpoly  = ref (Array.make 0 0)\n",
    "    and qpoly' = ref (Array.make 1 poly.(n - 1))\n",
    "    in\n",
    "    for i = 1 to n - 1 do\n",
    "        qpoly  := !qpoly';\n",
    "        qpoly' := Array.make (i + 1) 0;\n",
    "        !qpoly'.(0) <- poly.(n - 1 - i);\n",
    "        for k = 0 to i - 1 do\n",
    "            !qpoly'.(k)     <- !qpoly'.(k) + b * !qpoly.(k);\n",
    "            !qpoly'.(k + 1) <- !qpoly'.(k + 1) + !qpoly.(k)\n",
    "        done\n",
    "    done;\n",
    "    !qpoly';;\n",
    "\n",
    "(* tests *)\n",
    "let poly = [|0; 0; 0; 1|];;\n",
    "let b = 1;;\n",
    "translation poly b;;"
   ]
  },
  {
   "cell_type": "code",
   "execution_count": 39,
   "metadata": {},
   "outputs": [
    {
     "data": {
      "text/plain": [
       "val fpoly : int -> int = <fun>\n"
      ]
     },
     "execution_count": 39,
     "metadata": {},
     "output_type": "execute_result"
    },
    {
     "data": {
      "text/plain": [
       "val poly : int array = [|2; -5; 1; 3|]\n"
      ]
     },
     "execution_count": 39,
     "metadata": {},
     "output_type": "execute_result"
    },
    {
     "data": {
      "text/plain": [
       "val a : int = 2\n",
       "val b : int = 7\n"
      ]
     },
     "execution_count": 39,
     "metadata": {},
     "output_type": "execute_result"
    },
    {
     "data": {
      "text/plain": [
       "- : int = 2225\n"
      ]
     },
     "execution_count": 39,
     "metadata": {},
     "output_type": "execute_result"
    },
    {
     "data": {
      "text/plain": [
       "- : int = 2225\n"
      ]
     },
     "execution_count": 39,
     "metadata": {},
     "output_type": "execute_result"
    }
   ],
   "source": [
    "(* tests *)\n",
    "let fpoly x = 2 - 5 * x + x * x + 3 * x * x * x;;\n",
    "let poly = [|2; -5; 1; 3|];;\n",
    "let a, b = 2, 7;;\n",
    "fpoly (a + b);;\n",
    "eval3 (translation poly b) a;;"
   ]
  },
  {
   "cell_type": "markdown",
   "metadata": {},
   "source": [
    "## Exercice 10"
   ]
  },
  {
   "cell_type": "markdown",
   "metadata": {},
   "source": [
    "Considérons dans un tel tableau $b$, on note $b(i,j)$ la valeur du coefficient en ligne $i$, colonne $j$."
   ]
  },
  {
   "cell_type": "markdown",
   "metadata": {},
   "source": [
    "Pour une valeur donnée du couple $(i,j)$, les lignes et les colonnes sont rangées en ordre croissant, on a, pour tout couple $(i', j')$ tel que $i'\\leqslant i$ et $j'\\leqslant j$ :\n",
    "$$\n",
    "b(i', j') \\leqslant b(i', j) \\leqslant b(i, j)\n",
    "$$\n",
    "et pour tout couple $(i', j')$ tel que $i\\leqslant i'$ et $j\\leqslant j'$ :\n",
    "$$\n",
    "b(i, j) \\leqslant b(i', j) \\leqslant b(i', j')\n",
    "$$"
   ]
  },
  {
   "cell_type": "markdown",
   "metadata": {},
   "source": [
    "Ainsi, si $v>b\\left(\\frac{n}{2}, \\frac{n}{2}\\right)$, on peut exclure de la recherche les valeurs \n",
    "$\\{b(i', j')\\}_{i'\\leqslant \\frac{n}{2}, j'\\leqslant \\frac{n}{2}}$.  \n",
    "De même, si $v<b\\left(\\frac{n}{2}+1, \\frac{n}{2}+1\\right)$, on peut exclure de la recherche les valeurs \n",
    "$\\{b(i', j')\\}_{\\frac{n}{2}+1\\leqslant i', \\frac{n}{2}+1\\leqslant j'}$.   "
   ]
  },
  {
   "cell_type": "markdown",
   "metadata": {},
   "source": [
    "Ainsi, dans ces deux cas, on peut exclure de la recherche, pour un tableau  comportant $n=2^k$ lignes et colonnes, on peut exclure de la recherche un quart des valeurs du tableau, et poursuivre la recherche dans chacun des trois autres quart de tableau."
   ]
  },
  {
   "cell_type": "markdown",
   "metadata": {},
   "source": [
    "Pour une valeur $v$ donnée, il est exclu que l'une des deux conditions $v>x$ ou $v<y$ ne soit pas satisfaite, car, puisque $x\\leqslant y$ par construction du tableau, alors on \n",
    "aurait $v\\leqslant x \\leqslant y \\leqslant v$ et donc $x=y=v$, ce qui signifie que la valeur $v$ aura été trouvée."
   ]
  },
  {
   "cell_type": "markdown",
   "metadata": {},
   "source": [
    "*Note* : il n'est pas possible d'exclure de la recherche les autres parties du tableau, comme on peut l'observer sur un exemple."
   ]
  },
  {
   "cell_type": "markdown",
   "metadata": {},
   "source": [
    "Si on note $T\\left(n\\right)$ la complexité de la recherche dans le pire cas dans un tableau de taille $n=2^k$, on a donc :\n",
    "$$\n",
    "T\\left(n\\right) = 3 T\\left(\\frac{n}{2}\\right) + \\Theta (1)\n",
    "$$\n",
    "où $\\Theta (1)$ correspond à la complexité, indépendante de la taille du tableau, de la comparaison de ma valeur $v$ cherchée avec les coefficients $b\\left(\\frac{n}{2}, \\frac{n}{2}\\right)$ et $b\\left(\\frac{n}{2}+1, \\frac{n}{2}+1\\right)$."
   ]
  },
  {
   "cell_type": "markdown",
   "metadata": {},
   "source": [
    "## Exercice 11"
   ]
  },
  {
   "cell_type": "markdown",
   "metadata": {},
   "source": [
    "* **Tri fusion d'une liste**"
   ]
  },
  {
   "cell_type": "code",
   "execution_count": 40,
   "metadata": {},
   "outputs": [
    {
     "ename": "error",
     "evalue": "compile_error",
     "output_type": "error",
     "traceback": [
      "\u001b[32mFile \"[40]\", line 1, characters 10-14:\n\u001b[31mError: Syntax error\n\u001b[36m   1: \u001b[30mIl s'agit \u001b[4mdans\u001b[0m\u001b[30m un premier temps d'implémenter l'interclassement (fusion) de deux listes triées.\u001b[0m\n"
     ]
    }
   ],
   "source": [
    "Il s'agit dans un premier temps d'implémenter l'interclassement (fusion) de deux listes triées.  "
   ]
  },
  {
   "cell_type": "code",
   "execution_count": 41,
   "metadata": {},
   "outputs": [
    {
     "data": {
      "text/plain": [
       "val interclassement : 'a list -> 'a list -> 'a list = <fun>\n"
      ]
     },
     "execution_count": 41,
     "metadata": {},
     "output_type": "execute_result"
    },
    {
     "data": {
      "text/plain": [
       "- : int list = [2; 3; 7]\n"
      ]
     },
     "execution_count": 41,
     "metadata": {},
     "output_type": "execute_result"
    },
    {
     "data": {
      "text/plain": [
       "- : int list = [1; 2; 2; 3; 4; 7; 7; 7; 9; 10]\n"
      ]
     },
     "execution_count": 41,
     "metadata": {},
     "output_type": "execute_result"
    }
   ],
   "source": [
    "let interclassement lst1 lst2 =\n",
    "    let rec aux lst1 lst2 acc =\n",
    "        match lst1, lst2 with\n",
    "            | [],     []     -> acc\n",
    "            | h1::t1, []     -> aux t1 lst2 (h1::acc)\n",
    "            | [],     h2::t2 -> aux lst1 t2 (h2::acc)\n",
    "            | h1::t1, h2::t2 -> if h1 <= h2 then aux t1 lst2 (h1::acc) else aux lst1 t2 (h2::acc)\n",
    "    in\n",
    "    List.rev (aux lst1 lst2 [])\n",
    "    ;;\n",
    "\n",
    "(* tests *)\n",
    "let lst1, lst2 = [], [2; 3; 7] in \n",
    "interclassement lst1 lst2;;\n",
    "let lst1, lst2 = [1; 2; 4; 7; 9], [2; 3; 7; 7; 10] in \n",
    "interclassement lst1 lst2;;"
   ]
  },
  {
   "cell_type": "code",
   "execution_count": 42,
   "metadata": {},
   "outputs": [
    {
     "ename": "error",
     "evalue": "compile_error",
     "output_type": "error",
     "traceback": [
      "\u001b[32mFile \"[42]\", line 1, characters 16-19:\n\u001b[31mError: Syntax error\n\u001b[36m   1: \u001b[30mL'algorithme du \u001b[4mtri\u001b[0m\u001b[30m fusion consiste alors à scinder une liste de longueur $n$ en deux sous-listes de longueur moitié.\u001b[0m\n"
     ]
    }
   ],
   "source": [
    "L'algorithme du tri fusion consiste alors à scinder une liste de longueur $n$ en deux sous-listes de longueur moitié."
   ]
  },
  {
   "cell_type": "code",
   "execution_count": 43,
   "metadata": {},
   "outputs": [
    {
     "data": {
      "text/plain": [
       "val scission : 'a list -> 'a list * 'a list = <fun>\n"
      ]
     },
     "execution_count": 43,
     "metadata": {},
     "output_type": "execute_result"
    },
    {
     "data": {
      "text/plain": [
       "- : 'a list * 'a list = ([], [])\n"
      ]
     },
     "execution_count": 43,
     "metadata": {},
     "output_type": "execute_result"
    },
    {
     "data": {
      "text/plain": [
       "- : int list * int list = ([1], [])\n"
      ]
     },
     "execution_count": 43,
     "metadata": {},
     "output_type": "execute_result"
    },
    {
     "data": {
      "text/plain": [
       "- : int list * int list = ([3], [2])\n"
      ]
     },
     "execution_count": 43,
     "metadata": {},
     "output_type": "execute_result"
    },
    {
     "data": {
      "text/plain": [
       "- : int list * int list = ([3; 6], [5; 4])\n"
      ]
     },
     "execution_count": 43,
     "metadata": {},
     "output_type": "execute_result"
    },
    {
     "data": {
      "text/plain": [
       "- : int list * int list = ([3; 7; 6], [5; 4])\n"
      ]
     },
     "execution_count": 43,
     "metadata": {},
     "output_type": "execute_result"
    }
   ],
   "source": [
    "let scission lst =\n",
    "    let m = List.length lst / 2\n",
    "    in\n",
    "    let rec aux lst acc k =\n",
    "        match lst with\n",
    "            | []  -> (lst, acc)\n",
    "            | h::t when k < m -> aux t (h::acc) (k + 1)\n",
    "            | _ -> (lst, acc)\n",
    "    in\n",
    "    aux lst [] 0;;\n",
    "\n",
    "(* tests *)\n",
    "scission [];;\n",
    "scission [1];;\n",
    "scission [2; 3];;\n",
    "scission [4; 5; 3; 6];;\n",
    "scission [4; 5; 3; 7; 6];;"
   ]
  },
  {
   "cell_type": "code",
   "execution_count": 44,
   "metadata": {},
   "outputs": [
    {
     "data": {
      "text/plain": [
       "val trifusion : 'a list -> 'a list = <fun>\n"
      ]
     },
     "execution_count": 44,
     "metadata": {},
     "output_type": "execute_result"
    }
   ],
   "source": [
    "let rec trifusion lst =\n",
    "    match lst with\n",
    "        | [] -> lst\n",
    "        | [x] -> lst\n",
    "        | _ ->  let lst1, lst2 = scission lst\n",
    "                in\n",
    "                interclassement (trifusion lst1) (trifusion lst2);;"
   ]
  },
  {
   "cell_type": "code",
   "execution_count": 45,
   "metadata": {},
   "outputs": [
    {
     "data": {
      "text/plain": [
       "- : 'a list = []\n"
      ]
     },
     "execution_count": 45,
     "metadata": {},
     "output_type": "execute_result"
    },
    {
     "data": {
      "text/plain": [
       "- : int list = [1]\n"
      ]
     },
     "execution_count": 45,
     "metadata": {},
     "output_type": "execute_result"
    },
    {
     "data": {
      "text/plain": [
       "- : int list = [2; 3]\n"
      ]
     },
     "execution_count": 45,
     "metadata": {},
     "output_type": "execute_result"
    },
    {
     "data": {
      "text/plain": [
       "- : int list = [3; 4; 5; 6]\n"
      ]
     },
     "execution_count": 45,
     "metadata": {},
     "output_type": "execute_result"
    },
    {
     "data": {
      "text/plain": [
       "- : int list = [3; 4; 5; 6; 7]\n"
      ]
     },
     "execution_count": 45,
     "metadata": {},
     "output_type": "execute_result"
    }
   ],
   "source": [
    "(* tests *)\n",
    "trifusion [];;\n",
    "trifusion [1];;\n",
    "trifusion [2; 3];;\n",
    "trifusion [4; 5; 3; 6];;\n",
    "trifusion [4; 5; 3; 7; 6];;"
   ]
  },
  {
   "cell_type": "code",
   "execution_count": 46,
   "metadata": {},
   "outputs": [
    {
     "data": {
      "text/plain": [
       "val listalea : int -> int -> int -> int list = <fun>\n"
      ]
     },
     "execution_count": 46,
     "metadata": {},
     "output_type": "execute_result"
    },
    {
     "data": {
      "text/plain": [
       "- : int list = [0; 1; 1; 0]\n"
      ]
     },
     "execution_count": 46,
     "metadata": {},
     "output_type": "execute_result"
    },
    {
     "data": {
      "text/plain": [
       "- : int list = [13; 16; 19; 10; 6; 18; 11; 2; 1; 5]\n"
      ]
     },
     "execution_count": 46,
     "metadata": {},
     "output_type": "execute_result"
    }
   ],
   "source": [
    "let listalea n a b =\n",
    "    let rec aux k acc = \n",
    "        match k with\n",
    "            | 0 -> acc\n",
    "            | _ -> aux (k - 1) ((a + Random.int (b - a + 1))::acc)\n",
    "    in aux n [];;\n",
    "\n",
    "(* tests *)\n",
    "listalea 4 0 1;;\n",
    "listalea 10 1 20;;"
   ]
  },
  {
   "cell_type": "code",
   "execution_count": 47,
   "metadata": {},
   "outputs": [
    {
     "data": {
      "text/plain": [
       "val lst : int list =\n",
       "  [48; 8; 12; 6; 13; 50; 21; 1; 4; 47; 45; 24; 24; 15; 44; 40; 20; 29; 7; 2]\n"
      ]
     },
     "execution_count": 47,
     "metadata": {},
     "output_type": "execute_result"
    },
    {
     "data": {
      "text/plain": [
       "- : int list =\n",
       "[1; 2; 4; 6; 7; 8; 12; 13; 15; 20; 21; 24; 24; 29; 40; 44; 45; 47; 48; 50]\n"
      ]
     },
     "execution_count": 47,
     "metadata": {},
     "output_type": "execute_result"
    }
   ],
   "source": [
    "let lst = listalea 20 1 50;;\n",
    "trifusion lst;;"
   ]
  },
  {
   "cell_type": "markdown",
   "metadata": {},
   "source": [
    "* **Tri fusion d'un tableau**"
   ]
  },
  {
   "cell_type": "markdown",
   "metadata": {},
   "source": [
    "On implémente l'interclassement de deux sections contigües et triées d'un même tableau"
   ]
  },
  {
   "cell_type": "code",
   "execution_count": 48,
   "metadata": {},
   "outputs": [
    {
     "data": {
      "text/plain": [
       "val interclassement : int array -> int -> int -> int -> unit = <fun>\n"
      ]
     },
     "execution_count": 48,
     "metadata": {},
     "output_type": "execute_result"
    },
    {
     "data": {
      "text/plain": [
       "- : int array = [|1; 2; 2; 3; 4; 7; 7; 7; 9; 10|]\n"
      ]
     },
     "execution_count": 48,
     "metadata": {},
     "output_type": "execute_result"
    },
    {
     "data": {
      "text/plain": [
       "- : int array = [|1; 5; 2; 3; 4; 7; 7; 9; 7; 10|]\n"
      ]
     },
     "execution_count": 48,
     "metadata": {},
     "output_type": "execute_result"
    }
   ],
   "source": [
    "let interclassement tab a b c  =\n",
    "    let i, j = ref a, ref b\n",
    "    in\n",
    "    let tab_aux = Array.make (c - a) 0\n",
    "    and k = ref 0\n",
    "    in\n",
    "    while !i < b && !j < c do\n",
    "        if tab.(!i) <= tab.(!j) then\n",
    "            begin\n",
    "                tab_aux.(!k) <- tab.(!i);\n",
    "                incr i\n",
    "            end\n",
    "        else\n",
    "            begin\n",
    "                tab_aux.(!k) <- tab.(!j);\n",
    "                incr j\n",
    "            end;\n",
    "        incr k\n",
    "    done;\n",
    "    while !i < b do\n",
    "        tab_aux.(!k) <- tab.(!i);\n",
    "        incr i;\n",
    "        incr k\n",
    "    done;\n",
    "    while !j < c do\n",
    "        tab_aux.(!k) <- tab.(!j);\n",
    "        incr j;\n",
    "        incr k\n",
    "    done;\n",
    "    k := 0;\n",
    "    while !k < c - a do\n",
    "        tab.(a + !k) <- tab_aux.(!k);\n",
    "        incr k\n",
    "    done;;\n",
    "\n",
    "(* tests *)\n",
    "let tab = [|1; 2; 4; 7; 9; 2; 3; 7; 7; 10|] in\n",
    "interclassement tab 0 5 10;\n",
    "tab;;\n",
    "let tab = [|1; 5; 4; 7; 9; 2; 3; 7; 7; 10|] in\n",
    "interclassement tab 2 5 8;\n",
    "tab;;"
   ]
  },
  {
   "cell_type": "code",
   "execution_count": 49,
   "metadata": {},
   "outputs": [
    {
     "data": {
      "text/plain": [
       "val trifusiontab : int array -> unit = <fun>\n"
      ]
     },
     "execution_count": 49,
     "metadata": {},
     "output_type": "execute_result"
    },
    {
     "data": {
      "text/plain": [
       "- : 'a array = [||]\n"
      ]
     },
     "execution_count": 49,
     "metadata": {},
     "output_type": "execute_result"
    },
    {
     "data": {
      "text/plain": [
       "- : int array = [|1|]\n"
      ]
     },
     "execution_count": 49,
     "metadata": {},
     "output_type": "execute_result"
    },
    {
     "data": {
      "text/plain": [
       "- : int array = [|3; 5|]\n"
      ]
     },
     "execution_count": 49,
     "metadata": {},
     "output_type": "execute_result"
    },
    {
     "data": {
      "text/plain": [
       "- : int array = [|3; 5; 6; 9; 9|]\n"
      ]
     },
     "execution_count": 49,
     "metadata": {},
     "output_type": "execute_result"
    },
    {
     "data": {
      "text/plain": [
       "- : int array = [|3; 4; 5; 6; 7|]\n"
      ]
     },
     "execution_count": 49,
     "metadata": {},
     "output_type": "execute_result"
    }
   ],
   "source": [
    "let trifusiontab tab =\n",
    "    let b = Array.length tab in\n",
    "    let rec aux tab a b =\n",
    "        if b - a > 1 then\n",
    "            let m = (a + b) / 2 \n",
    "            in\n",
    "            aux tab a m;\n",
    "            aux tab m b;\n",
    "            interclassement tab a m b\n",
    "    in\n",
    "    aux tab 0 b;;\n",
    "\n",
    "(* tests *)\n",
    "let tab = [||]\n",
    "in trifusiontab tab;\n",
    "tab;;\n",
    "let tab = [|1|]\n",
    "in trifusiontab tab;\n",
    "tab;;\n",
    "let tab = [|5; 3|]\n",
    "in trifusiontab tab;\n",
    "tab;;\n",
    "let tab = [|9; 5; 3; 9; 6|]\n",
    "in trifusiontab tab;\n",
    "tab;;\n",
    "let tab = [|4; 5; 3; 7; 6|]\n",
    "in trifusiontab tab;\n",
    "tab;;"
   ]
  },
  {
   "cell_type": "markdown",
   "metadata": {},
   "source": [
    "## Exercice 12"
   ]
  },
  {
   "cell_type": "markdown",
   "metadata": {},
   "source": [
    "L'algorithme naïf consiste à parcourir la liste des entiers et, pour chacun d'eux, examiner les entiers qui le suivent et compter ceux qui lui sont inférieurs"
   ]
  },
  {
   "cell_type": "code",
   "execution_count": 50,
   "metadata": {},
   "outputs": [
    {
     "data": {
      "text/plain": [
       "val compte_inversions : 'a array -> int = <fun>\n"
      ]
     },
     "execution_count": 50,
     "metadata": {},
     "output_type": "execute_result"
    },
    {
     "data": {
      "text/plain": [
       "- : int = 8\n"
      ]
     },
     "execution_count": 50,
     "metadata": {},
     "output_type": "execute_result"
    }
   ],
   "source": [
    "(* algorithme naïf *)\n",
    "let compte_inversions tab =\n",
    "    let n = Array.length tab\n",
    "    and cpt = ref 0\n",
    "    in\n",
    "    for i = 0 to n - 1 do\n",
    "        for j = i + 1 to n - 1 do\n",
    "            if tab.(i) > tab.(j) then incr cpt\n",
    "        done\n",
    "    done;\n",
    "    !cpt;;\n",
    "\n",
    "(* tests *)\n",
    "compte_inversions [|2; 6; 3; 5; 1; 4|];;"
   ]
  },
  {
   "cell_type": "code",
   "execution_count": 51,
   "metadata": {},
   "outputs": [
    {
     "data": {
      "text/plain": [
       "- : int = 3\n"
      ]
     },
     "execution_count": 51,
     "metadata": {},
     "output_type": "execute_result"
    }
   ],
   "source": [
    "compte_inversions [|2; 3; 1; 5; 4|];;"
   ]
  },
  {
   "cell_type": "markdown",
   "metadata": {},
   "source": [
    "Avec des listes :"
   ]
  },
  {
   "cell_type": "code",
   "execution_count": 52,
   "metadata": {},
   "outputs": [
    {
     "data": {
      "text/plain": [
       "val compte_inversions : 'a list -> int = <fun>\n"
      ]
     },
     "execution_count": 52,
     "metadata": {},
     "output_type": "execute_result"
    }
   ],
   "source": [
    "(* algorithme naïf *)\n",
    "let compte_inversions lst =\n",
    "    let rec aux x lst cpt =\n",
    "        match lst with\n",
    "            | [] -> cpt\n",
    "            | h::t -> if x > h then aux x t (cpt + 1) else aux x t cpt\n",
    "    in\n",
    "    let rec parcours_compte lst cpt =\n",
    "        match lst with\n",
    "            | [] -> cpt\n",
    "            | h::t -> parcours_compte t (cpt + aux h t 0)\n",
    "    in\n",
    "    parcours_compte lst 0;;"
   ]
  },
  {
   "cell_type": "code",
   "execution_count": 53,
   "metadata": {},
   "outputs": [
    {
     "data": {
      "text/plain": [
       "- : int = 3\n"
      ]
     },
     "execution_count": 53,
     "metadata": {},
     "output_type": "execute_result"
    }
   ],
   "source": [
    "(* tests *)\n",
    "compte_inversions [2; 3; 1; 5; 4];;"
   ]
  },
  {
   "cell_type": "code",
   "execution_count": 54,
   "metadata": {},
   "outputs": [
    {
     "data": {
      "text/plain": [
       "- : int array = [|2; 6; 3; 5; 1; 4|]\n"
      ]
     },
     "execution_count": 54,
     "metadata": {},
     "output_type": "execute_result"
    }
   ],
   "source": [
    "[|2; 6; 3; 5; 1; 4|]"
   ]
  },
  {
   "cell_type": "code",
   "execution_count": 55,
   "metadata": {},
   "outputs": [
    {
     "data": {
      "text/plain": [
       "val aux : 'a -> 'a list -> int -> int = <fun>\n"
      ]
     },
     "execution_count": 55,
     "metadata": {},
     "output_type": "execute_result"
    },
    {
     "data": {
      "text/plain": [
       "- : int = 1\n"
      ]
     },
     "execution_count": 55,
     "metadata": {},
     "output_type": "execute_result"
    }
   ],
   "source": [
    "let rec aux x lst cpt =\n",
    "    match lst with\n",
    "        | [] -> cpt\n",
    "        | h::t -> if x > h then aux x t (cpt + 1) else aux x t cpt;;\n",
    "(* tests *)\n",
    "aux 2 [3; 1; 5; 4] 0;;"
   ]
  },
  {
   "cell_type": "markdown",
   "metadata": {},
   "source": [
    "Méthode \"diviser pour régner\""
   ]
  },
  {
   "cell_type": "markdown",
   "metadata": {},
   "source": [
    "Considérons une suite d'entiers : (2, 3, 1, 5, 4), que l'on scinde en la suite de ses $p$ premiers éléments, et des ses $p$ ou $p+1$ derniers éléments (suivant que $n=2p$ ou $n=2p+1$.\n",
    "\n",
    "Si le nombre d'inversions dans l'état initial de la séquence sont connues au sein des sous-suites, et que les sous-listes ont été triées, \n",
    "notons $(a_1, a_2, \\dots a_m)$ la première sous-séquence triée, et $(b_1, b_2, \\dots b_m)$ la seconde.  \n",
    "\n",
    "Suivant l'algorithme d'interclassement, le nombre d'inversion dans la séquence d'origine entre éléments de la première séquence et de la seconde, est égal à la somme, pour chaque élément $b_j$ de la seconde séquence, au nombre d'éléments de la prmeière séquence qui viennent se placer après $b_j$ dans la liste triée.  \n",
    "\n",
    "**Exemple :**\n",
    "Pour la séquence $(2, 6, 3, 5, 1, 4)$ scindée en deux sous-séquences triées $a = (2, 6, 3)$ et $b=(5, 1, 4)$, après que ces sous-séquences ont été triées, sous la forme $a'=(2, 3, 6)$ et $b'=(1, 4, 5)$,  \n",
    "Lors de l'interclassement des deux séquences triées :\n",
    "- 1 nombre (1) de la seconde séquence a été placé avant le placement du 2 de la première séquence ;\n",
    "- 1 nombre (1) de la seconde séquence a été placé avant le placement du 3 de la première séquence ;\n",
    "- 3 nombre (1, 4, 5) de la seconde séquence ont été placés avant le placement du 6 de la première séquence ;\n",
    "Le nombre d'inversions détectées est de $1+1+3=5$.  \n",
    "Il s'agit du nombre d'inversions dans la séquence d'origine entre éléments de la séquence $(2, 6, 3)$ et éléments de la séquence $(1, 4, 5)$."
   ]
  },
  {
   "cell_type": "markdown",
   "metadata": {},
   "source": [
    "L'algorithme proposé est l'algorithme de tri fusion, complété par un compteur incrémenté au moment de l'interclassement. \n",
    "Pour chaque nombre de la première séquence que l'on traite, on ajoute au compteur le nombre d'éléments de la seconde séquence\n",
    "qui le précèdent.  \n",
    "Le nombre d'éléments de la seconde liste déjà traité est donné par la valeur de $j - b$."
   ]
  },
  {
   "cell_type": "code",
   "execution_count": 56,
   "metadata": {},
   "outputs": [
    {
     "data": {
      "text/plain": [
       "val interclassement : int array -> int -> int -> int -> int ref -> unit =\n",
       "  <fun>\n"
      ]
     },
     "execution_count": 56,
     "metadata": {},
     "output_type": "execute_result"
    },
    {
     "data": {
      "text/plain": [
       "- : int ref * int array = ({contents = 5}, [|1; 2; 3; 4; 5; 6|])\n"
      ]
     },
     "execution_count": 56,
     "metadata": {},
     "output_type": "execute_result"
    }
   ],
   "source": [
    "let interclassement tab a b c cpt =\n",
    "    let i, j = ref a, ref b\n",
    "    and tab_aux = Array.make (c - a) 0 and k = ref 0\n",
    "    in\n",
    "    while !i < b && !j < c do\n",
    "        if tab.(!i) <= tab.(!j) then\n",
    "            begin\n",
    "                tab_aux.(!k) <- tab.(!i);\n",
    "                cpt := !cpt + (!j - b);\n",
    "                incr i\n",
    "            end\n",
    "        else\n",
    "            begin\n",
    "                tab_aux.(!k) <- tab.(!j);\n",
    "                incr j\n",
    "            end;\n",
    "        incr k\n",
    "    done;\n",
    "    while !i < b do\n",
    "        tab_aux.(!k) <- tab.(!i); incr i; incr k;\n",
    "        cpt := !cpt + (!j - b)\n",
    "    done;\n",
    "    while !j < c do\n",
    "        tab_aux.(!k) <- tab.(!j); incr j; incr k\n",
    "    done;\n",
    "    k := 0;\n",
    "    while !k < c - a do\n",
    "        tab.(a + !k) <- tab_aux.(!k);\n",
    "        incr k\n",
    "    done;;\n",
    "\n",
    "(* tests *)\n",
    "let tab = [|2; 3; 6; 1; 4; 5|]\n",
    "and cpt = ref 0\n",
    "in\n",
    "interclassement tab 0 3 6 cpt;\n",
    "cpt, tab;;"
   ]
  },
  {
   "cell_type": "markdown",
   "metadata": {},
   "source": [
    "Pour obtenir le nombre d'inversions total, on effectue le tri fusion avec cette nouvelle fonction d'interclassement."
   ]
  },
  {
   "cell_type": "code",
   "execution_count": 57,
   "metadata": {},
   "outputs": [
    {
     "data": {
      "text/plain": [
       "val trifusiontab : int array -> int = <fun>\n"
      ]
     },
     "execution_count": 57,
     "metadata": {},
     "output_type": "execute_result"
    },
    {
     "data": {
      "text/plain": [
       "- : int = 8\n"
      ]
     },
     "execution_count": 57,
     "metadata": {},
     "output_type": "execute_result"
    }
   ],
   "source": [
    "let trifusiontab tab =\n",
    "    let cpt_inv = ref 0 in\n",
    "    let b = Array.length tab in\n",
    "    let rec aux tab a b =\n",
    "        if b - a > 1 then\n",
    "            let m = (a + b) / 2 \n",
    "            in\n",
    "            aux tab a m;\n",
    "            aux tab m b;\n",
    "            interclassement tab a m b cpt_inv;\n",
    "    in\n",
    "    aux tab 0 b;\n",
    "    !cpt_inv;;\n",
    "    \n",
    "(* tests *)\n",
    "let tab = [|2; 6; 3; 5; 1; 4|]\n",
    "in\n",
    "trifusiontab tab;"
   ]
  },
  {
   "cell_type": "markdown",
   "metadata": {},
   "source": [
    "## Exercice 13"
   ]
  },
  {
   "cell_type": "markdown",
   "metadata": {},
   "source": [
    "On considère un système de monnaie utilisant $p$ types de pièces différentes de valeurs respectives $S=\\{c_1,c_2,\\dots\n",
    "c_p\\}$.  \n",
    "Pour tout $n\\in \\mathbb N$, on note $f(n, S)$ le nombre minimal de pièces nécessaires pour décomposer l'entier\n",
    "$n$ dans ce système de monnaie.  \n",
    "_**__On supposera que $c_1 = 1$.__**_"
   ]
  },
  {
   "cell_type": "markdown",
   "metadata": {},
   "source": [
    "On rappelle l'algorithme glouton donnant une réponse non optimale au problème dans le cas général :  \n",
    "- on recherche le nombre maximal possible de pièces de plus grande valeur dans la décomposition de $n$ ;\n",
    "- on itère pour trouver un décomposition du reliquat à l'aide des pièces restantes.  \n",
    "\n",
    "Deux exemples d'optimalité et de non-optimalité sont donnés ici : https://fr.wikipedia.org/wiki/Algorithme_glouton"
   ]
  },
  {
   "cell_type": "code",
   "execution_count": 58,
   "metadata": {},
   "outputs": [
    {
     "data": {
      "text/plain": [
       "val renduglouton : int -> int list -> int * int list = <fun>\n"
      ]
     },
     "execution_count": 58,
     "metadata": {},
     "output_type": "execute_result"
    },
    {
     "data": {
      "text/plain": [
       "- : int * int list = (5, [1; 1; 1; 2])\n"
      ]
     },
     "execution_count": 58,
     "metadata": {},
     "output_type": "execute_result"
    },
    {
     "data": {
      "text/plain": [
       "- : int * int list = (3, [2; 0; 1])\n"
      ]
     },
     "execution_count": 58,
     "metadata": {},
     "output_type": "execute_result"
    }
   ],
   "source": [
    "(* implémentation de l'algorithme glouton *)\n",
    "(* on suppose que les valeurs faciales des pièces sont données par une liste, vfaciales, \n",
    "que l'on commence par ordonner dans l'ordre décroissant *)\n",
    "let renduglouton n vfaciales = \n",
    "    let lst = List.sort (fun a b -> compare b a) vfaciales in\n",
    "    let rec aux lst n acc1 acc2 =\n",
    "        match lst with\n",
    "            | []   -> acc1, acc2 (* acc1 le nombre de pièces ;\n",
    "                                    acc2 la liste des nombres de chaque pièces par valeurs croissantes *)\n",
    "            | h::t -> aux t (n mod h) (acc1 + n / h) ((n / h)::acc2)\n",
    "    in\n",
    "    aux lst n 0 [];;\n",
    "\n",
    "(* tests *)\n",
    "renduglouton 28 [1; 2; 5; 10];;\n",
    "renduglouton 6  [1; 3; 4];;"
   ]
  },
  {
   "cell_type": "markdown",
   "metadata": {},
   "source": [
    "1. Établir une relation de récurrence vérifiée par $f(n,S)$."
   ]
  },
  {
   "cell_type": "markdown",
   "metadata": {},
   "source": [
    "Il y a deux méthodes possibles.  "
   ]
  },
  {
   "cell_type": "markdown",
   "metadata": {},
   "source": [
    "$\\bullet$ : On considère $n$ fixé, et on raisonne par récurrence sur $k\\in[\\![1, p]\\!]$, en notant $S_k = \\left(c_i\\right)_{1\\leqslant i\\leqslant k}$, et $S_0=\\emptyset$.  \n",
    "Pour tout $k \\in[\\![1, p]\\!]$, si $q_k$ est le quotient dans la division euclidienne de $n$ par $c_k$, alors \n",
    "$$\n",
    "f\\left(n, S_k\\right) = \\min_{0\\leqslant j\\leqslant q_k}\\{j + f\\left(n - j.c_k, S_{k-1}\\right)\\},\n",
    "$$\n",
    "étant entendu que, pour tout $a\\in\\mathbb N$, $f\\left(a, S_1\\right)=a$."
   ]
  },
  {
   "cell_type": "code",
   "execution_count": 59,
   "metadata": {},
   "outputs": [
    {
     "data": {
      "text/plain": [
       "val rendu1 : int -> int list -> int * int list = <fun>\n"
      ]
     },
     "execution_count": 59,
     "metadata": {},
     "output_type": "execute_result"
    },
    {
     "data": {
      "text/plain": [
       "- : int * int list = (5, [5])\n"
      ]
     },
     "execution_count": 59,
     "metadata": {},
     "output_type": "execute_result"
    },
    {
     "data": {
      "text/plain": [
       "- : int * int list = (5, [1; 1; 1; 2])\n"
      ]
     },
     "execution_count": 59,
     "metadata": {},
     "output_type": "execute_result"
    },
    {
     "data": {
      "text/plain": [
       "- : int * int list = (2, [0; 2; 0])\n"
      ]
     },
     "execution_count": 59,
     "metadata": {},
     "output_type": "execute_result"
    }
   ],
   "source": [
    "(* implémentation récursive élémentaire de la méthode *)\n",
    "let rendu1 n vfaciales =\n",
    "    let lst = List.sort (fun a b -> compare b a) vfaciales in\n",
    "    let rec aux n lst acc1 acc2 =\n",
    "        match lst with\n",
    "            | []    -> failwith \"impossible\"\n",
    "            | [1]   -> n, [n]\n",
    "            | h::t  -> let nbmin, jmin, jacc = ref n, ref 0, ref [] in\n",
    "                       for j = 0 to n / h do\n",
    "                           let nbj, accj = aux (n - j * h) t 0 [] in\n",
    "                           if j + nbj < !nbmin then\n",
    "                               begin\n",
    "                                   nbmin := j + nbj;\n",
    "                                   jmin := j;\n",
    "                                   jacc := accj\n",
    "                               end\n",
    "                        done;\n",
    "                        !nbmin, (!jmin::!jacc) \n",
    "    in\n",
    "    let n, acc = aux n lst 0 []\n",
    "    in\n",
    "    n, List.rev acc;;\n",
    "\n",
    "(* tests *)\n",
    "rendu1 5  [1];;\n",
    "rendu1 28 [1; 2; 5; 10];;\n",
    "rendu1 6  [1; 3; 4];;"
   ]
  },
  {
   "cell_type": "markdown",
   "metadata": {},
   "source": [
    "$\\bullet$ : Pour un entier $n$ donné, on peut également donner la relation de récurrence suivante \n",
    "$$\n",
    "f\\left(n, S\\right) = \\min_{1\\leqslant i\\leqslant p, c_i \\leqslant n}\\{1 + f\\left(n - c_i, S\\right)\\},\n",
    "$$\n",
    "étant entendu que $f\\left(0, S\\right)=0$."
   ]
  },
  {
   "cell_type": "code",
   "execution_count": 60,
   "metadata": {},
   "outputs": [
    {
     "data": {
      "text/plain": [
       "val rendu2 : int -> int list -> int * int array = <fun>\n"
      ]
     },
     "execution_count": 60,
     "metadata": {},
     "output_type": "execute_result"
    },
    {
     "data": {
      "text/plain": [
       "- : int * int array = (5, [|5|])\n"
      ]
     },
     "execution_count": 60,
     "metadata": {},
     "output_type": "execute_result"
    },
    {
     "data": {
      "text/plain": [
       "- : int * int array = (5, [|1; 1; 1; 2|])\n"
      ]
     },
     "execution_count": 60,
     "metadata": {},
     "output_type": "execute_result"
    },
    {
     "data": {
      "text/plain": [
       "- : int * int array = (2, [|0; 2; 0|])\n"
      ]
     },
     "execution_count": 60,
     "metadata": {},
     "output_type": "execute_result"
    }
   ],
   "source": [
    "(* implémentation récursive élémentaire de la méthode *)\n",
    "let rendu2 n vfaciales =\n",
    "    let tfaciales     = Array.of_list vfaciales in\n",
    "    let p             = Array.length tfaciales\n",
    "    in\n",
    "    let rec aux n =\n",
    "        match n with\n",
    "            | 0     -> 0, Array.make p 0\n",
    "            | _     -> let nbmin, imin, decomposition = ref n, ref 0, ref [||] in\n",
    "                       for i = 0 to p - 1 do\n",
    "                           if tfaciales.(i) <= n then \n",
    "                               let nbi, decompositioni = aux (n - tfaciales.(i)) in\n",
    "                               if 1 + nbi <= !nbmin then\n",
    "                                   begin\n",
    "                                       nbmin := 1 + nbi;\n",
    "                                       imin := i;\n",
    "                                       decomposition := decompositioni\n",
    "                                   end\n",
    "                        done;\n",
    "                        !decomposition.(!imin) <- !decomposition.(!imin) + 1;\n",
    "                        !nbmin, !decomposition\n",
    "    in\n",
    "    aux n;;\n",
    "\n",
    "(* tests *)\n",
    "rendu2 5  [1];;\n",
    "rendu2 28 [1; 2; 5; 10];;\n",
    "rendu2 6  [1; 3; 4];;"
   ]
  },
  {
   "cell_type": "markdown",
   "metadata": {},
   "source": [
    "$\\bullet$ : (une dernière solution, mêlant les deux premières)  \n",
    "Pour un entier $n$ donné et une sous-séquence $S_k = \\left(c_i\\right)_{1\\leqslant i\\leqslant k}$ de $S=\\left(c_1, c_2, \\dots, c_p\\right)$ :  \n",
    "$$\n",
    "f\\left(n, S_k\\right) =\n",
    "\\left\\{\n",
    "            \\begin{array}{ll}\n",
    "                \\min \\{1 + f\\left(n - c_k, S_k\\right), f\\left(n, S_{k - 1}\\right)\\} & \\mbox{ si $c_k\\leqslant n$ ;}\\\\\n",
    "                f\\left(n, S_{k - 1}\\right) & \\mbox{ sinon.}\n",
    "            \\end{array}\n",
    "        \\right.\n",
    "$$\n",
    "étant entendu que $f\\left(0, S\\right)=0$."
   ]
  },
  {
   "cell_type": "code",
   "execution_count": 61,
   "metadata": {},
   "outputs": [
    {
     "data": {
      "text/plain": [
       "val rendu3 : int -> int list -> int = <fun>\n"
      ]
     },
     "execution_count": 61,
     "metadata": {},
     "output_type": "execute_result"
    },
    {
     "data": {
      "text/plain": [
       "- : int = 5\n"
      ]
     },
     "execution_count": 61,
     "metadata": {},
     "output_type": "execute_result"
    },
    {
     "data": {
      "text/plain": [
       "- : int = 5\n"
      ]
     },
     "execution_count": 61,
     "metadata": {},
     "output_type": "execute_result"
    },
    {
     "data": {
      "text/plain": [
       "- : int = 2\n"
      ]
     },
     "execution_count": 61,
     "metadata": {},
     "output_type": "execute_result"
    }
   ],
   "source": [
    "(* implémentation récursive élémentaire de la méthode *)\n",
    "let rendu3 n vfaciales =\n",
    "    let tfaciales     = Array.of_list vfaciales in\n",
    "    let p             = Array.length tfaciales\n",
    "    in\n",
    "    let rec aux n k =\n",
    "        match k with\n",
    "            | 1 -> n\n",
    "            | _ -> let nbmin = ref (aux n (k-1)) and vfaciale = tfaciales.(k - 1) in\n",
    "                      if vfaciale <= n then\n",
    "                          nbmin := min !nbmin (1 + aux (n - vfaciale) k);\n",
    "                      !nbmin\n",
    "    in\n",
    "    aux n p;;\n",
    "\n",
    "(* tests *)\n",
    "rendu3 5  [1];;\n",
    "rendu3 28 [1; 2; 5; 10];;\n",
    "rendu3 6  [1; 3; 4];;"
   ]
  },
  {
   "cell_type": "code",
   "execution_count": null,
   "metadata": {},
   "outputs": [],
   "source": []
  },
  {
   "cell_type": "markdown",
   "metadata": {},
   "source": [
    "### Solutions de programmation dynamique"
   ]
  },
  {
   "cell_type": "code",
   "execution_count": 62,
   "metadata": {},
   "outputs": [
    {
     "data": {
      "text/plain": [
       "val rendu1dyn : int -> int list -> int * int list = <fun>\n"
      ]
     },
     "execution_count": 62,
     "metadata": {},
     "output_type": "execute_result"
    },
    {
     "data": {
      "text/plain": [
       "- : int * int list = (5, [5])\n"
      ]
     },
     "execution_count": 62,
     "metadata": {},
     "output_type": "execute_result"
    },
    {
     "data": {
      "text/plain": [
       "- : int * int list = (5, [1; 1; 1; 2])\n"
      ]
     },
     "execution_count": 62,
     "metadata": {},
     "output_type": "execute_result"
    },
    {
     "data": {
      "text/plain": [
       "- : int * int list = (2, [0; 2; 0])\n"
      ]
     },
     "execution_count": 62,
     "metadata": {},
     "output_type": "execute_result"
    }
   ],
   "source": [
    "(* programmation dynamique pour la première méthode *)\n",
    "let rendu1dyn n vfaciales =\n",
    "    let lst = List.sort (fun a b -> compare b a) vfaciales in\n",
    "    let tabres = Array.make_matrix (n + 1) (List.hd lst + 1) (-1, []) in\n",
    "    let rec aux n lst acc1 acc2 =\n",
    "        match lst with\n",
    "            | []    -> failwith \"impossible\"\n",
    "            | [1]   -> tabres.(n).(1) <- n, [n];\n",
    "                       tabres.(n).(1)\n",
    "            | h::t  -> let nbmin, jmin, jacc = ref n, ref 0, ref [] in\n",
    "                       for j = 0 to n / h do\n",
    "                           let nbj, accj = if tabres.(n - j * h).(h - 1) <> (- 1, []) then\n",
    "                                               tabres.(n - j * h).(h - 1)\n",
    "                                           else\n",
    "                                               aux (n - j * h) t 0 []\n",
    "                           in\n",
    "                           if j + nbj < !nbmin then\n",
    "                               begin\n",
    "                                   nbmin := j + nbj;\n",
    "                                   jmin := j;\n",
    "                                   jacc := accj\n",
    "                               end\n",
    "                        done;\n",
    "                        tabres.(n).(h) <- !nbmin, (!jmin::!jacc);\n",
    "                        tabres.(n).(h) \n",
    "    in\n",
    "    let n, acc = aux n lst 0 []\n",
    "    in\n",
    "    n, List.rev acc;;\n",
    "\n",
    "(* tests *)\n",
    "rendu1dyn 5  [1];;\n",
    "rendu1dyn 28 [1; 2; 5; 10];;\n",
    "rendu1dyn 6  [1; 3; 4];;"
   ]
  },
  {
   "cell_type": "code",
   "execution_count": 63,
   "metadata": {},
   "outputs": [
    {
     "data": {
      "text/plain": [
       "val rendu2dyn : int -> int list -> int * int array = <fun>\n"
      ]
     },
     "execution_count": 63,
     "metadata": {},
     "output_type": "execute_result"
    },
    {
     "data": {
      "text/plain": [
       "- : int * int array = (5, [|5|])\n"
      ]
     },
     "execution_count": 63,
     "metadata": {},
     "output_type": "execute_result"
    },
    {
     "data": {
      "text/plain": [
       "- : int * int array = (5, [|1; 1; 2; 8|])\n"
      ]
     },
     "execution_count": 63,
     "metadata": {},
     "output_type": "execute_result"
    },
    {
     "data": {
      "text/plain": [
       "- : int * int array = (2, [|0; 2; 0|])\n"
      ]
     },
     "execution_count": 63,
     "metadata": {},
     "output_type": "execute_result"
    }
   ],
   "source": [
    "(* programmation dynamique pour la deuxième méthode *)\n",
    "let rendu2dyn n vfaciales =\n",
    "    let tfaciales     = Array.of_list vfaciales in\n",
    "    let p             = Array.length tfaciales in\n",
    "    let tabres = Array.make (n + 1) (-1, [||])\n",
    "    in\n",
    "    let rec aux n =\n",
    "        match n with\n",
    "            | 0     -> tabres.(0) <- 0, Array.make p 0; tabres.(0)\n",
    "            | _     -> if tabres.(n) = (-1, [||]) then\n",
    "                           begin\n",
    "                           let nbmin, imin, decomposition = ref n, ref 0, ref [||] in\n",
    "                           for i = 0 to p - 1 do\n",
    "                               if tfaciales.(i) <= n then \n",
    "                                   let nbi, decompositioni = aux (n - tfaciales.(i)) in\n",
    "                                   if 1 + nbi <= !nbmin then\n",
    "                                       begin\n",
    "                                           nbmin := 1 + nbi;\n",
    "                                           imin := i;\n",
    "                                           decomposition := decompositioni\n",
    "                                       end\n",
    "                            done;\n",
    "                            !decomposition.(!imin) <- !decomposition.(!imin) + 1;\n",
    "                            tabres.(n) <- !nbmin, !decomposition\n",
    "                            end;\n",
    "                        tabres.(n)\n",
    "    in\n",
    "    aux n;;\n",
    "\n",
    "(* tests *)\n",
    "rendu2dyn 5  [1];;\n",
    "rendu2dyn 28 [1; 2; 5; 10];;\n",
    "rendu2dyn 6  [1; 3; 4];;"
   ]
  },
  {
   "cell_type": "code",
   "execution_count": 64,
   "metadata": {},
   "outputs": [
    {
     "data": {
      "text/plain": [
       "val rendu3dyn : int -> int list -> int * int array = <fun>\n"
      ]
     },
     "execution_count": 64,
     "metadata": {},
     "output_type": "execute_result"
    },
    {
     "data": {
      "text/plain": [
       "- : int * int array = (5, [|0; 5|])\n"
      ]
     },
     "execution_count": 64,
     "metadata": {},
     "output_type": "execute_result"
    },
    {
     "data": {
      "text/plain": [
       "- : int * int array = (5, [|0; 1; 1; 1; 2|])\n"
      ]
     },
     "execution_count": 64,
     "metadata": {},
     "output_type": "execute_result"
    },
    {
     "data": {
      "text/plain": [
       "- : int * int array = (2, [|0; 0; 2; 0|])\n"
      ]
     },
     "execution_count": 64,
     "metadata": {},
     "output_type": "execute_result"
    }
   ],
   "source": [
    "(* programmation dynamique pour la troisième méthode *)\n",
    "let rendu3dyn n vfaciales =\n",
    "    let tfaciales     = Array.of_list vfaciales in\n",
    "    let p             = Array.length tfaciales in\n",
    "    let tabres = Array.make_matrix (n + 1) (p + 1) (-1, [||]) \n",
    "    in\n",
    "    let rec aux n k =\n",
    "        match k with\n",
    "            | 1 -> let t = Array.make (p + 1) 0 in t.(1) <- n; tabres.(n).(1) <- (n, t); tabres.(n).(1)\n",
    "            | _ -> if fst tabres.(n).(k) = -1 then\n",
    "                       begin\n",
    "                       let nbmin, decmin = aux n (k-1) and vfaciale = tfaciales.(k - 1) in\n",
    "                       tabres.(n).(k) <- nbmin, decmin;\n",
    "                       if vfaciale <= n then\n",
    "                           let nbmin', decmin' = aux (n - vfaciale) k\n",
    "                           in\n",
    "                           if 1 + nbmin' < nbmin then\n",
    "                               begin\n",
    "                                   tabres.(n).(k)     <- 1 + nbmin', Array.copy decmin';\n",
    "                                   (snd tabres.(n).(k)).(k) <- 1 + (snd tabres.(n).(k)).(k)\n",
    "                               end;\n",
    "                       end;\n",
    "                    tabres.(n).(k);\n",
    "    in\n",
    "    aux n p;;\n",
    "\n",
    "(* tests *)\n",
    "rendu3dyn 5  [1];;\n",
    "rendu3dyn 28 [1; 2; 5; 10];;\n",
    "rendu3dyn 6  [1; 3; 4];;"
   ]
  },
  {
   "cell_type": "code",
   "execution_count": null,
   "metadata": {},
   "outputs": [],
   "source": []
  },
  {
   "cell_type": "markdown",
   "metadata": {},
   "source": [
    "## Exercice 14"
   ]
  },
  {
   "cell_type": "markdown",
   "metadata": {},
   "source": [
    "Considérons un tel triangle, de hauteur $n$, pour lequel les valeurs sont consignées dans un tableau $t$, tel que\n",
    "<code>t.(i).(j)</code> contient la $(j+1)^{\\rm ème}$ valeur de la $(i+1)^{\\rm ème}$ ligne.  \n",
    "Pour un élément en position $(i, j)$ dans le tableau, avec , $0\\leqslant j \\leqslant i < n - 1$, de valeur $t_{i, j}$, le maximum possible, noté $m(i, j)$ vérifie \n",
    "$$\n",
    "m(i, j) = max \\{ t_{i, j} + m(i + 1, j), t_{i, j} + m(i + 1, j + 1)\\} ;\n",
    "$$\n",
    "tandis que si $i=n - 1$ et $0\\leqslant j\\leqslant i$, on a :  $\\ m(i, j) = t_{i, j}$."
   ]
  },
  {
   "cell_type": "code",
   "execution_count": 65,
   "metadata": {},
   "outputs": [
    {
     "data": {
      "text/plain": [
       "val optimum : int array array -> int = <fun>\n"
      ]
     },
     "execution_count": 65,
     "metadata": {},
     "output_type": "execute_result"
    },
    {
     "data": {
      "text/plain": [
       "- : int = 23\n"
      ]
     },
     "execution_count": 65,
     "metadata": {},
     "output_type": "execute_result"
    }
   ],
   "source": [
    "(* implementation récursive *)\n",
    "let optimum tab =\n",
    "    let n = Array.length tab in\n",
    "    let rec m i j =\n",
    "        match i with\n",
    "            | _ when i = n - 1 -> tab.(i).(j)\n",
    "            | _                -> max (tab.(i).(j) + m (i + 1) j) (tab.(i).(j) + m (i + 1) (j + 1))\n",
    "    in\n",
    "    m 0 0;;\n",
    "\n",
    "(* test *)\n",
    "let tab = [|\n",
    "    [| 3; 0; 0; 0 |];\n",
    "    [| 7; 4; 0; 0 |];\n",
    "    [| 2; 4; 6; 0 |];\n",
    "    [| 8; 5; 9; 3 |]\n",
    "        |]\n",
    "in\n",
    "optimum tab;;"
   ]
  },
  {
   "cell_type": "markdown",
   "metadata": {},
   "source": [
    "### Solution de programmation dynamique"
   ]
  },
  {
   "cell_type": "code",
   "execution_count": 66,
   "metadata": {},
   "outputs": [
    {
     "data": {
      "text/plain": [
       "val optimumdyn : int array array -> int = <fun>\n"
      ]
     },
     "execution_count": 66,
     "metadata": {},
     "output_type": "execute_result"
    },
    {
     "data": {
      "text/plain": [
       "- : int = 23\n"
      ]
     },
     "execution_count": 66,
     "metadata": {},
     "output_type": "execute_result"
    }
   ],
   "source": [
    "(*  *)\n",
    "let optimumdyn tab =\n",
    "    let n = Array.length tab in\n",
    "    let tabres = Array.make_matrix n n (- 1) in\n",
    "    let rec m i j =\n",
    "        match i with\n",
    "            | _ when i = n - 1 -> tab.(i).(j)\n",
    "            | _                -> if tabres.(i).(j) = - 1 then\n",
    "                                      tabres.(i).(j) <- max (tab.(i).(j) + m (i + 1) j) (tab.(i).(j) + m (i + 1) (j + 1));\n",
    "                                  tabres.(i).(j);\n",
    "    in\n",
    "    m 0 0;;\n",
    "\n",
    "(* test *)\n",
    "let tab = [|\n",
    "    [| 3; 0; 0; 0 |];\n",
    "    [| 7; 4; 0; 0 |];\n",
    "    [| 2; 4; 6; 0 |];\n",
    "    [| 8; 5; 9; 3 |]\n",
    "        |]\n",
    "in\n",
    "optimumdyn tab;;"
   ]
  },
  {
   "cell_type": "code",
   "execution_count": 67,
   "metadata": {},
   "outputs": [
    {
     "data": {
      "text/plain": [
       "val optimumdynchemin : int array array -> int * int list = <fun>\n"
      ]
     },
     "execution_count": 67,
     "metadata": {},
     "output_type": "execute_result"
    },
    {
     "data": {
      "text/plain": [
       "- : int * int list = (23, [3; 7; 4; 9])\n"
      ]
     },
     "execution_count": 67,
     "metadata": {},
     "output_type": "execute_result"
    }
   ],
   "source": [
    "(* optimum avec le chemin *)\n",
    "let optimumdynchemin tab =\n",
    "    let n = Array.length tab in\n",
    "    let tabres = Array.make_matrix n n (- 1, []) in\n",
    "    for j = 0 to n - 1 do\n",
    "        tabres.(n - 1).(j) <- (tab.(n - 1).(j), [tab.(n - 1).(j)])\n",
    "    done;\n",
    "    let rec m i j =\n",
    "        match i with\n",
    "            | _ when i = n - 1 -> tabres.(i).(j)\n",
    "            | _                -> if fst tabres.(i).(j) = - 1 then\n",
    "                                      begin\n",
    "                                          let g, cg = m (i + 1) j and d, cd = m (i + 1) (j + 1) in\n",
    "                                          if g > d then\n",
    "                                              tabres.(i).(j) <- tab.(i).(j) + g, (tab.(i).(j)::cg)\n",
    "                                          else\n",
    "                                              tabres.(i).(j) <- tab.(i).(j) + d, (tab.(i).(j)::cd)\n",
    "                                      end;\n",
    "                                      ();\n",
    "                                  tabres.(i).(j)\n",
    "    in\n",
    "    m 0 0;;\n",
    "\n",
    "(* test *)\n",
    "let tab = [|\n",
    "    [| 3; 0; 0; 0 |];\n",
    "    [| 7; 4; 0; 0 |];\n",
    "    [| 2; 4; 6; 0 |];\n",
    "    [| 8; 5; 9; 3 |]\n",
    "        |]\n",
    "in\n",
    "optimumdynchemin tab;;"
   ]
  },
  {
   "cell_type": "code",
   "execution_count": null,
   "metadata": {},
   "outputs": [],
   "source": []
  }
 ],
 "metadata": {
  "kernelspec": {
   "display_name": "OCaml 4.05.0",
   "language": "OCaml",
   "name": "ocaml-jupyter"
  },
  "language_info": {
   "codemirror_mode": "text/x-ocaml",
   "file_extension": ".ml",
   "mimetype": "text/x-ocaml",
   "name": "OCaml",
   "nbconverter_exporter": null,
   "pygments_lexer": "OCaml",
   "version": "4.05.0"
  }
 },
 "nbformat": 4,
 "nbformat_minor": 4
}
